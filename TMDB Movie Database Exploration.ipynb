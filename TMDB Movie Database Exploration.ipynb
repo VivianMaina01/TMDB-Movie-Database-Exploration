{
 "cells": [
  {
   "cell_type": "markdown",
   "id": "f662d169",
   "metadata": {},
   "source": [
    "  #                                🎬 TMDB Movie Database Exploration"
   ]
  },
  {
   "cell_type": "markdown",
   "id": "b6bdd20c",
   "metadata": {},
   "source": [
    "## Introduction\n",
    "\n",
    "In this project, I will be exploring [The Movie Database](https://www.themoviedb.org/) – an online movie and TV show database that houses some of the most popular movies and TV shows at your fingertips. The TMDb database supports 39 official languages used in over 180 countries daily and dates back all the way to 2008. The goal is to understand the structure of the database, extract meaningful information, and generate insights about movies, actors, and production trends.\n",
    "\n",
    "\n",
    "<img src=\"https://github.com/Explore-AI/Pictures/blob/master/sql_tmdb.jpg?raw=true\" width=80%/>\n",
    "\n",
    "\n",
    "Below is an Entity Relationship Diagram (ERD) of the TMDb database:\n",
    "\n",
    "<img src=\"https://github.com/Explore-AI/Pictures/blob/master/TMDB_ER_diagram.png?raw=true\" width=70%/>\n",
    "\n",
    "As can be seen from the ERD, the TMDb database consists of `12 tables` containing information about movies, cast, genre, and so much more.  \n",
    "\n",
    "Let's get started!"
   ]
  },
  {
   "cell_type": "markdown",
   "id": "5a0b7683",
   "metadata": {
    "tags": []
   },
   "source": [
    "## Loading the database\n",
    "\n",
    "Before we begin, we'll need to prepare the SQL environment.  We'll do this by loading the magic command `%load_ext sql`."
   ]
  },
  {
   "cell_type": "code",
   "execution_count": 1,
   "id": "0f34ea72",
   "metadata": {
    "scrolled": true
   },
   "outputs": [],
   "source": [
    "# Load and activate the SQL extension to allow us to execute SQL in a Jupyter notebook.\n",
    "\n",
    "%load_ext sql"
   ]
  },
  {
   "cell_type": "markdown",
   "id": "3f78b691",
   "metadata": {},
   "source": [
    "Next, we will go ahead and load the database."
   ]
  },
  {
   "cell_type": "code",
   "execution_count": 2,
   "id": "d279a04d",
   "metadata": {},
   "outputs": [
    {
     "data": {
      "text/plain": [
       "'Connected: @C:\\\\Users\\\\PC\\\\.ipynb_checkpoints\\\\TMDB.db'"
      ]
     },
     "execution_count": 2,
     "metadata": {},
     "output_type": "execute_result"
    }
   ],
   "source": [
    "%sql sqlite:///C:\\Users\\PC\\.ipynb_checkpoints\\TMDB.db"
   ]
  },
  {
   "cell_type": "code",
   "execution_count": 3,
   "id": "fbd480fb",
   "metadata": {
    "scrolled": true
   },
   "outputs": [
    {
     "name": "stdout",
     "output_type": "stream",
     "text": [
      "Requirement already satisfied: pandas in c:\\users\\pc\\.conda\\envs\\sql_packages\\lib\\site-packages (2.3.2)\n",
      "Requirement already satisfied: matplotlib in c:\\users\\pc\\.conda\\envs\\sql_packages\\lib\\site-packages (3.10.6)\n",
      "Requirement already satisfied: numpy>=1.23.2 in c:\\users\\pc\\.conda\\envs\\sql_packages\\lib\\site-packages (from pandas) (2.3.2)\n",
      "Requirement already satisfied: python-dateutil>=2.8.2 in c:\\users\\pc\\.conda\\envs\\sql_packages\\lib\\site-packages (from pandas) (2.8.2)\n",
      "Requirement already satisfied: pytz>=2020.1 in c:\\users\\pc\\.conda\\envs\\sql_packages\\lib\\site-packages (from pandas) (2025.2)\n",
      "Requirement already satisfied: tzdata>=2022.7 in c:\\users\\pc\\.conda\\envs\\sql_packages\\lib\\site-packages (from pandas) (2025.2)\n",
      "Requirement already satisfied: contourpy>=1.0.1 in c:\\users\\pc\\.conda\\envs\\sql_packages\\lib\\site-packages (from matplotlib) (1.3.3)\n",
      "Requirement already satisfied: cycler>=0.10 in c:\\users\\pc\\.conda\\envs\\sql_packages\\lib\\site-packages (from matplotlib) (0.12.1)\n",
      "Requirement already satisfied: fonttools>=4.22.0 in c:\\users\\pc\\.conda\\envs\\sql_packages\\lib\\site-packages (from matplotlib) (4.59.2)\n",
      "Requirement already satisfied: kiwisolver>=1.3.1 in c:\\users\\pc\\.conda\\envs\\sql_packages\\lib\\site-packages (from matplotlib) (1.4.9)\n",
      "Requirement already satisfied: packaging>=20.0 in c:\\users\\pc\\.conda\\envs\\sql_packages\\lib\\site-packages (from matplotlib) (23.1)\n",
      "Requirement already satisfied: pillow>=8 in c:\\users\\pc\\.conda\\envs\\sql_packages\\lib\\site-packages (from matplotlib) (11.3.0)\n",
      "Requirement already satisfied: pyparsing>=2.3.1 in c:\\users\\pc\\.conda\\envs\\sql_packages\\lib\\site-packages (from matplotlib) (3.2.3)\n",
      "Requirement already satisfied: six>=1.5 in c:\\users\\pc\\.conda\\envs\\sql_packages\\lib\\site-packages (from python-dateutil>=2.8.2->pandas) (1.16.0)\n"
     ]
    }
   ],
   "source": [
    "!pip install pandas matplotlib"
   ]
  },
  {
   "cell_type": "code",
   "execution_count": 4,
   "id": "a3d004df",
   "metadata": {},
   "outputs": [],
   "source": [
    "import pandas as pd\n",
    "import matplotlib.pyplot as plt"
   ]
  },
  {
   "cell_type": "markdown",
   "id": "f5ed5285",
   "metadata": {},
   "source": [
    "## Exploring the Movies Dataset"
   ]
  },
  {
   "cell_type": "markdown",
   "id": "715f71c6",
   "metadata": {},
   "source": [
    "### 1. Preview Movies table"
   ]
  },
  {
   "cell_type": "code",
   "execution_count": 5,
   "id": "ca799839",
   "metadata": {
    "scrolled": true
   },
   "outputs": [
    {
     "name": "stdout",
     "output_type": "stream",
     "text": [
      " * sqlite:///C:\\Users\\PC\\.ipynb_checkpoints\\TMDB.db\n",
      "Done.\n"
     ]
    },
    {
     "data": {
      "text/html": [
       "<table>\n",
       "    <thead>\n",
       "        <tr>\n",
       "            <th>movie_id</th>\n",
       "            <th>title</th>\n",
       "            <th>release_date</th>\n",
       "            <th>budget</th>\n",
       "            <th>homepage</th>\n",
       "            <th>original_language</th>\n",
       "            <th>original_title</th>\n",
       "            <th>overview</th>\n",
       "            <th>popularity</th>\n",
       "            <th>revenue</th>\n",
       "            <th>runtime</th>\n",
       "            <th>release_status</th>\n",
       "            <th>tagline</th>\n",
       "            <th>vote_average</th>\n",
       "            <th>vote_count</th>\n",
       "        </tr>\n",
       "    </thead>\n",
       "    <tbody>\n",
       "        <tr>\n",
       "            <td>5</td>\n",
       "            <td>Four Rooms</td>\n",
       "            <td>1995-12-09 00:00:00.000000</td>\n",
       "            <td>4000000</td>\n",
       "            <td>None</td>\n",
       "            <td>en</td>\n",
       "            <td>Four Rooms</td>\n",
       "            <td>It&#x27;s Ted the Bellhop&#x27;s first night on the job...and the hotel&#x27;s very unusual guests are about to place him in some outrageous predicaments. It seems that this evening&#x27;s room service is serving up one unbelievable happening after another.</td>\n",
       "            <td>22.87623</td>\n",
       "            <td>4300000.0</td>\n",
       "            <td>98.0</td>\n",
       "            <td>Released</td>\n",
       "            <td>Twelve outrageous guests. Four scandalous requests. And one lone bellhop, in his first day on the job, who&#x27;s in for the wildest New year&#x27;s Eve of his life.</td>\n",
       "            <td>6.5</td>\n",
       "            <td>530</td>\n",
       "        </tr>\n",
       "        <tr>\n",
       "            <td>11</td>\n",
       "            <td>Star Wars</td>\n",
       "            <td>1977-05-25 00:00:00.000000</td>\n",
       "            <td>11000000</td>\n",
       "            <td>http://www.starwars.com/films/star-wars-episode-iv-a-new-hope</td>\n",
       "            <td>en</td>\n",
       "            <td>Star Wars</td>\n",
       "            <td>Princess Leia is captured and held hostage by the evil Imperial forces in their effort to take over the galactic Empire. Venturesome Luke Skywalker and dashing captain Han Solo team together with the loveable robot duo R2-D2 and C-3PO to rescue the beautiful princess and restore peace and justice in the Empire.</td>\n",
       "            <td>126.393695</td>\n",
       "            <td>775398007.0</td>\n",
       "            <td>121.0</td>\n",
       "            <td>Released</td>\n",
       "            <td>A long time ago in a galaxy far, far away...</td>\n",
       "            <td>8.1</td>\n",
       "            <td>6624</td>\n",
       "        </tr>\n",
       "        <tr>\n",
       "            <td>12</td>\n",
       "            <td>Finding Nemo</td>\n",
       "            <td>2003-05-30 00:00:00.000000</td>\n",
       "            <td>94000000</td>\n",
       "            <td>http://movies.disney.com/finding-nemo</td>\n",
       "            <td>en</td>\n",
       "            <td>Finding Nemo</td>\n",
       "            <td>Nemo, an adventurous young clownfish, is unexpectedly taken from his Great Barrier Reef home to a dentist&#x27;s office aquarium. It&#x27;s up to his worrisome father Marlin and a friendly but forgetful fish Dory to bring Nemo home -- meeting vegetarian sharks, surfer dude turtles, hypnotic jellyfish, hungry seagulls, and more along the way.</td>\n",
       "            <td>85.688789</td>\n",
       "            <td>940335536.0</td>\n",
       "            <td>100.0</td>\n",
       "            <td>Released</td>\n",
       "            <td>There are 3.7 trillion fish in the ocean, they&#x27;re looking for one.</td>\n",
       "            <td>7.6</td>\n",
       "            <td>6122</td>\n",
       "        </tr>\n",
       "        <tr>\n",
       "            <td>13</td>\n",
       "            <td>Forrest Gump</td>\n",
       "            <td>1994-07-06 00:00:00.000000</td>\n",
       "            <td>55000000</td>\n",
       "            <td>None</td>\n",
       "            <td>en</td>\n",
       "            <td>Forrest Gump</td>\n",
       "            <td>A man with a low IQ has accomplished great things in his life and been present during significant historic events - in each case, far exceeding what anyone imagined he could do. Yet, despite all the things he has attained, his one true love eludes him. &#x27;Forrest Gump&#x27; is the story of a man who rose above his challenges, and who proved that determination, courage, and love are more important than ability.</td>\n",
       "            <td>138.133331</td>\n",
       "            <td>677945399.0</td>\n",
       "            <td>142.0</td>\n",
       "            <td>Released</td>\n",
       "            <td>The world will never be the same, once you&#x27;ve seen it through the eyes of Forrest Gump.</td>\n",
       "            <td>8.2</td>\n",
       "            <td>7927</td>\n",
       "        </tr>\n",
       "        <tr>\n",
       "            <td>14</td>\n",
       "            <td>American Beauty</td>\n",
       "            <td>1999-09-15 00:00:00.000000</td>\n",
       "            <td>15000000</td>\n",
       "            <td>http://www.dreamworks.com/ab/</td>\n",
       "            <td>en</td>\n",
       "            <td>American Beauty</td>\n",
       "            <td>Lester Burnham, a depressed suburban father in a mid-life crisis, decides to turn his hectic life around after developing an infatuation with his daughter&#x27;s attractive friend.</td>\n",
       "            <td>80.878605</td>\n",
       "            <td>356296601.0</td>\n",
       "            <td>122.0</td>\n",
       "            <td>Released</td>\n",
       "            <td>Look closer.</td>\n",
       "            <td>7.9</td>\n",
       "            <td>3313</td>\n",
       "        </tr>\n",
       "    </tbody>\n",
       "</table>"
      ],
      "text/plain": [
       "[(5, 'Four Rooms', '1995-12-09 00:00:00.000000', 4000000, None, 'en', 'Four Rooms', \"It's Ted the Bellhop's first night on the job...and the hotel's very unusual guests are about to place him in some outrageous predicaments. It seems that this evening's room service is serving up one unbelievable happening after another.\", 22.87623, 4300000.0, 98.0, 'Released', \"Twelve outrageous guests. Four scandalous requests. And one lone bellhop, in his first day on the job, who's in for the wildest New year's Eve of his life.\", 6.5, 530),\n",
       " (11, 'Star Wars', '1977-05-25 00:00:00.000000', 11000000, 'http://www.starwars.com/films/star-wars-episode-iv-a-new-hope', 'en', 'Star Wars', 'Princess Leia is captured and held hostage by the evil Imperial forces in their effort to take over the galactic Empire. Venturesome Luke Skywalker a ... (14 characters truncated) ... tain Han Solo team together with the loveable robot duo R2-D2 and C-3PO to rescue the beautiful princess and restore peace and justice in the Empire.', 126.393695, 775398007.0, 121.0, 'Released', 'A long time ago in a galaxy far, far away...', 8.1, 6624),\n",
       " (12, 'Finding Nemo', '2003-05-30 00:00:00.000000', 94000000, 'http://movies.disney.com/finding-nemo', 'en', 'Finding Nemo', \"Nemo, an adventurous young clownfish, is unexpectedly taken from his Great Barrier Reef home to a dentist's office aquarium. It's up to his worrisome ... (35 characters truncated) ... orgetful fish Dory to bring Nemo home -- meeting vegetarian sharks, surfer dude turtles, hypnotic jellyfish, hungry seagulls, and more along the way.\", 85.688789, 940335536.0, 100.0, 'Released', \"There are 3.7 trillion fish in the ocean, they're looking for one.\", 7.6, 6122),\n",
       " (13, 'Forrest Gump', '1994-07-06 00:00:00.000000', 55000000, None, 'en', 'Forrest Gump', \"A man with a low IQ has accomplished great things in his life and been present during significant historic events - in each case, far exceeding what  ... (108 characters truncated) ... rest Gump' is the story of a man who rose above his challenges, and who proved that determination, courage, and love are more important than ability.\", 138.133331, 677945399.0, 142.0, 'Released', \"The world will never be the same, once you've seen it through the eyes of Forrest Gump.\", 8.2, 7927),\n",
       " (14, 'American Beauty', '1999-09-15 00:00:00.000000', 15000000, 'http://www.dreamworks.com/ab/', 'en', 'American Beauty', \"Lester Burnham, a depressed suburban father in a mid-life crisis, decides to turn his hectic life around after developing an infatuation with his daughter's attractive friend.\", 80.878605, 356296601.0, 122.0, 'Released', 'Look closer.', 7.9, 3313)]"
      ]
     },
     "execution_count": 5,
     "metadata": {},
     "output_type": "execute_result"
    }
   ],
   "source": [
    "%%sql\n",
    "SELECT * \n",
    "FROM movies \n",
    "LIMIT 5;"
   ]
  },
  {
   "cell_type": "markdown",
   "id": "a0c5bb92",
   "metadata": {},
   "source": [
    "### 2. Preview Actors table"
   ]
  },
  {
   "cell_type": "code",
   "execution_count": 6,
   "id": "7fb5570e",
   "metadata": {},
   "outputs": [
    {
     "name": "stdout",
     "output_type": "stream",
     "text": [
      " * sqlite:///C:\\Users\\PC\\.ipynb_checkpoints\\TMDB.db\n",
      "Done.\n"
     ]
    },
    {
     "data": {
      "text/html": [
       "<table>\n",
       "    <thead>\n",
       "        <tr>\n",
       "            <th>actor_id</th>\n",
       "            <th>actor_name</th>\n",
       "            <th>gender</th>\n",
       "        </tr>\n",
       "    </thead>\n",
       "    <tbody>\n",
       "        <tr>\n",
       "            <td>1</td>\n",
       "            <td>George Lucas</td>\n",
       "            <td>2</td>\n",
       "        </tr>\n",
       "        <tr>\n",
       "            <td>2</td>\n",
       "            <td>Mark Hamill</td>\n",
       "            <td>2</td>\n",
       "        </tr>\n",
       "        <tr>\n",
       "            <td>3</td>\n",
       "            <td>Harrison Ford</td>\n",
       "            <td>2</td>\n",
       "        </tr>\n",
       "        <tr>\n",
       "            <td>4</td>\n",
       "            <td>Carrie Fisher</td>\n",
       "            <td>1</td>\n",
       "        </tr>\n",
       "        <tr>\n",
       "            <td>5</td>\n",
       "            <td>Peter Cushing</td>\n",
       "            <td>2</td>\n",
       "        </tr>\n",
       "    </tbody>\n",
       "</table>"
      ],
      "text/plain": [
       "[(1, 'George Lucas', 2),\n",
       " (2, 'Mark Hamill', 2),\n",
       " (3, 'Harrison Ford', 2),\n",
       " (4, 'Carrie Fisher', 1),\n",
       " (5, 'Peter Cushing', 2)]"
      ]
     },
     "execution_count": 6,
     "metadata": {},
     "output_type": "execute_result"
    }
   ],
   "source": [
    "%%sql\n",
    "SELECT * \n",
    "FROM actors \n",
    "LIMIT 5;"
   ]
  },
  {
   "cell_type": "markdown",
   "id": "e5b9f52c",
   "metadata": {},
   "source": [
    "### 3. Preview Genres table"
   ]
  },
  {
   "cell_type": "code",
   "execution_count": 7,
   "id": "464304d5",
   "metadata": {},
   "outputs": [
    {
     "name": "stdout",
     "output_type": "stream",
     "text": [
      " * sqlite:///C:\\Users\\PC\\.ipynb_checkpoints\\TMDB.db\n",
      "Done.\n"
     ]
    },
    {
     "data": {
      "text/html": [
       "<table>\n",
       "    <thead>\n",
       "        <tr>\n",
       "            <th>genre_id</th>\n",
       "            <th>genre_name</th>\n",
       "        </tr>\n",
       "    </thead>\n",
       "    <tbody>\n",
       "        <tr>\n",
       "            <td>12</td>\n",
       "            <td>Adventure</td>\n",
       "        </tr>\n",
       "        <tr>\n",
       "            <td>14</td>\n",
       "            <td>Fantasy</td>\n",
       "        </tr>\n",
       "        <tr>\n",
       "            <td>16</td>\n",
       "            <td>Animation</td>\n",
       "        </tr>\n",
       "        <tr>\n",
       "            <td>18</td>\n",
       "            <td>Drama</td>\n",
       "        </tr>\n",
       "        <tr>\n",
       "            <td>27</td>\n",
       "            <td>Horror</td>\n",
       "        </tr>\n",
       "    </tbody>\n",
       "</table>"
      ],
      "text/plain": [
       "[(12, 'Adventure'),\n",
       " (14, 'Fantasy'),\n",
       " (16, 'Animation'),\n",
       " (18, 'Drama'),\n",
       " (27, 'Horror')]"
      ]
     },
     "execution_count": 7,
     "metadata": {},
     "output_type": "execute_result"
    }
   ],
   "source": [
    "%%sql\n",
    "SELECT * \n",
    "FROM genres\n",
    "LIMIT 5;"
   ]
  },
  {
   "cell_type": "markdown",
   "id": "31a8ccc9",
   "metadata": {},
   "source": [
    "### 4. Counting total number of movies in the database"
   ]
  },
  {
   "cell_type": "code",
   "execution_count": 8,
   "id": "cba5dc61",
   "metadata": {},
   "outputs": [
    {
     "name": "stdout",
     "output_type": "stream",
     "text": [
      " * sqlite:///C:\\Users\\PC\\.ipynb_checkpoints\\TMDB.db\n",
      "Done.\n"
     ]
    },
    {
     "data": {
      "text/html": [
       "<table>\n",
       "    <thead>\n",
       "        <tr>\n",
       "            <th>total_movies</th>\n",
       "        </tr>\n",
       "    </thead>\n",
       "    <tbody>\n",
       "        <tr>\n",
       "            <td>4803</td>\n",
       "        </tr>\n",
       "    </tbody>\n",
       "</table>"
      ],
      "text/plain": [
       "[(4803,)]"
      ]
     },
     "execution_count": 8,
     "metadata": {},
     "output_type": "execute_result"
    }
   ],
   "source": [
    "%%sql\n",
    "SELECT COUNT(*) AS total_movies \n",
    "FROM Movies;"
   ]
  },
  {
   "cell_type": "markdown",
   "id": "31a3f0c2",
   "metadata": {},
   "source": [
    "## Key Insights"
   ]
  },
  {
   "cell_type": "markdown",
   "id": "9c68937a",
   "metadata": {},
   "source": [
    "### 1. Oldest and Newest movies"
   ]
  },
  {
   "cell_type": "code",
   "execution_count": 9,
   "id": "4974431e",
   "metadata": {},
   "outputs": [
    {
     "name": "stdout",
     "output_type": "stream",
     "text": [
      " * sqlite:///C:\\Users\\PC\\.ipynb_checkpoints\\TMDB.db\n",
      "Done.\n"
     ]
    },
    {
     "data": {
      "text/html": [
       "<table>\n",
       "    <thead>\n",
       "        <tr>\n",
       "            <th>title</th>\n",
       "            <th>release_year</th>\n",
       "        </tr>\n",
       "    </thead>\n",
       "    <tbody>\n",
       "        <tr>\n",
       "            <td>Intolerance</td>\n",
       "            <td>1916</td>\n",
       "        </tr>\n",
       "        <tr>\n",
       "            <td>The Big Parade</td>\n",
       "            <td>1925</td>\n",
       "        </tr>\n",
       "        <tr>\n",
       "            <td>Metropolis</td>\n",
       "            <td>1927</td>\n",
       "        </tr>\n",
       "        <tr>\n",
       "            <td>Pandora&#x27;s Box</td>\n",
       "            <td>1929</td>\n",
       "        </tr>\n",
       "        <tr>\n",
       "            <td>The Broadway Melody</td>\n",
       "            <td>1929</td>\n",
       "        </tr>\n",
       "    </tbody>\n",
       "</table>"
      ],
      "text/plain": [
       "[('Intolerance', '1916'),\n",
       " ('The Big Parade', '1925'),\n",
       " ('Metropolis', '1927'),\n",
       " (\"Pandora's Box\", '1929'),\n",
       " ('The Broadway Melody', '1929')]"
      ]
     },
     "execution_count": 9,
     "metadata": {},
     "output_type": "execute_result"
    }
   ],
   "source": [
    "%%sql\n",
    "SELECT title, strftime('%Y', release_date) AS release_year\n",
    "FROM movies\n",
    "WHERE release_date IS NOT NULL \n",
    "ORDER BY release_year ASC\n",
    "LIMIT 5;"
   ]
  },
  {
   "cell_type": "code",
   "execution_count": 10,
   "id": "d93a7722",
   "metadata": {},
   "outputs": [
    {
     "name": "stdout",
     "output_type": "stream",
     "text": [
      " * sqlite:///C:\\Users\\PC\\.ipynb_checkpoints\\TMDB.db\n",
      "Done.\n"
     ]
    },
    {
     "data": {
      "text/html": [
       "<table>\n",
       "    <thead>\n",
       "        <tr>\n",
       "            <th>title</th>\n",
       "            <th>release_year</th>\n",
       "        </tr>\n",
       "    </thead>\n",
       "    <tbody>\n",
       "        <tr>\n",
       "            <td>Growing Up Smith</td>\n",
       "            <td>2017</td>\n",
       "        </tr>\n",
       "        <tr>\n",
       "            <td>Ghostbusters</td>\n",
       "            <td>2016</td>\n",
       "        </tr>\n",
       "        <tr>\n",
       "            <td>Independence Day: Resurgence</td>\n",
       "            <td>2016</td>\n",
       "        </tr>\n",
       "        <tr>\n",
       "            <td>Pride and Prejudice and Zombies</td>\n",
       "            <td>2016</td>\n",
       "        </tr>\n",
       "        <tr>\n",
       "            <td>Warcraft</td>\n",
       "            <td>2016</td>\n",
       "        </tr>\n",
       "    </tbody>\n",
       "</table>"
      ],
      "text/plain": [
       "[('Growing Up Smith', '2017'),\n",
       " ('Ghostbusters', '2016'),\n",
       " ('Independence Day: Resurgence', '2016'),\n",
       " ('Pride and Prejudice and Zombies', '2016'),\n",
       " ('Warcraft', '2016')]"
      ]
     },
     "execution_count": 10,
     "metadata": {},
     "output_type": "execute_result"
    }
   ],
   "source": [
    "%%sql\n",
    "SELECT title, strftime('%Y', release_date) AS release_year\n",
    "FROM movies\n",
    "WHERE release_date IS NOT NULL \n",
    "ORDER BY release_year DESC\n",
    "LIMIT 5;"
   ]
  },
  {
   "cell_type": "markdown",
   "id": "bec411c2",
   "metadata": {},
   "source": [
    "### *Observation*\n",
    "The database captures a wide historical range of films. The earliest entries are from the early 1900s, while the most recent releases are as current as 2020s productions. This shows that TMDB maintains both archival content and contemporary cinema."
   ]
  },
  {
   "cell_type": "markdown",
   "id": "d8052862",
   "metadata": {},
   "source": [
    "### 2. Most common Genres"
   ]
  },
  {
   "cell_type": "code",
   "execution_count": 11,
   "id": "25897347",
   "metadata": {},
   "outputs": [
    {
     "name": "stdout",
     "output_type": "stream",
     "text": [
      " * sqlite:///C:\\Users\\PC\\.ipynb_checkpoints\\TMDB.db\n",
      "Done.\n"
     ]
    },
    {
     "data": {
      "text/html": [
       "<table>\n",
       "    <thead>\n",
       "        <tr>\n",
       "            <th>genre_name</th>\n",
       "            <th>movie_count</th>\n",
       "        </tr>\n",
       "    </thead>\n",
       "    <tbody>\n",
       "        <tr>\n",
       "            <td>Drama</td>\n",
       "            <td>2297</td>\n",
       "        </tr>\n",
       "        <tr>\n",
       "            <td>Comedy</td>\n",
       "            <td>1722</td>\n",
       "        </tr>\n",
       "        <tr>\n",
       "            <td>Thriller</td>\n",
       "            <td>1274</td>\n",
       "        </tr>\n",
       "        <tr>\n",
       "            <td>Action</td>\n",
       "            <td>1154</td>\n",
       "        </tr>\n",
       "        <tr>\n",
       "            <td>Romance</td>\n",
       "            <td>894</td>\n",
       "        </tr>\n",
       "        <tr>\n",
       "            <td>Adventure</td>\n",
       "            <td>790</td>\n",
       "        </tr>\n",
       "        <tr>\n",
       "            <td>Crime</td>\n",
       "            <td>696</td>\n",
       "        </tr>\n",
       "        <tr>\n",
       "            <td>Science Fiction</td>\n",
       "            <td>535</td>\n",
       "        </tr>\n",
       "        <tr>\n",
       "            <td>Horror</td>\n",
       "            <td>519</td>\n",
       "        </tr>\n",
       "        <tr>\n",
       "            <td>Family</td>\n",
       "            <td>513</td>\n",
       "        </tr>\n",
       "    </tbody>\n",
       "</table>"
      ],
      "text/plain": [
       "[('Drama', 2297),\n",
       " ('Comedy', 1722),\n",
       " ('Thriller', 1274),\n",
       " ('Action', 1154),\n",
       " ('Romance', 894),\n",
       " ('Adventure', 790),\n",
       " ('Crime', 696),\n",
       " ('Science Fiction', 535),\n",
       " ('Horror', 519),\n",
       " ('Family', 513)]"
      ]
     },
     "execution_count": 11,
     "metadata": {},
     "output_type": "execute_result"
    }
   ],
   "source": [
    "%%sql \n",
    "SELECT g.genre_name, COUNT(*) AS movie_count\n",
    "FROM genremap gm\n",
    "JOIN genres g ON gm.genre_id = g.genre_id\n",
    "GROUP BY g.genre_name\n",
    "ORDER BY movie_count DESC\n",
    "LIMIT 10;"
   ]
  },
  {
   "cell_type": "code",
   "execution_count": 12,
   "id": "aff0ddfd",
   "metadata": {},
   "outputs": [
    {
     "name": "stdout",
     "output_type": "stream",
     "text": [
      " * sqlite:///C:\\Users\\PC\\.ipynb_checkpoints\\TMDB.db\n",
      "Done.\n",
      "Returning data to local variable Top_Genres\n"
     ]
    }
   ],
   "source": [
    "%%sql Top_Genres <<\n",
    "SELECT g.genre_name, COUNT(*) AS movie_count\n",
    "FROM genremap gm\n",
    "JOIN genres g ON gm.genre_id = g.genre_id\n",
    "GROUP BY g.genre_name\n",
    "ORDER BY movie_count DESC\n",
    "LIMIT 10;\n",
    "\n"
   ]
  },
  {
   "cell_type": "code",
   "execution_count": 13,
   "id": "96ac5b6c",
   "metadata": {},
   "outputs": [
    {
     "data": {
      "image/png": "[encoded data removed]",
      "text/plain": [
       "<Figure size 800x500 with 1 Axes>"
      ]
     },
     "metadata": {},
     "output_type": "display_data"
    }
   ],
   "source": [
    "import pandas as pd\n",
    "df = Top_Genres.DataFrame()\n",
    "\n",
    "df.plot(kind=\"bar\", x=\"genre_name\", y=\"movie_count\", legend=False, figsize=(8,5))\n",
    "plt.title(\"Top 10 Movie Genres\")\n",
    "plt.ylabel(\"Number of Movies\")\n",
    "plt.show()\n"
   ]
  },
  {
   "cell_type": "markdown",
   "id": "85addb52",
   "metadata": {},
   "source": [
    "### *Observation*\n",
    "Drama leads by a significant margin with 2,297 movies, followed by Comedy and Thriller. Interestingly, Horror and Family films rank closely together, each around the 500 mark, showing how both niche and family-oriented content maintain consistent representation."
   ]
  },
  {
   "cell_type": "markdown",
   "id": "2272bae0",
   "metadata": {},
   "source": [
    "### 3. Most Frequent Actors"
   ]
  },
  {
   "cell_type": "code",
   "execution_count": 14,
   "id": "df4c398e",
   "metadata": {},
   "outputs": [
    {
     "name": "stdout",
     "output_type": "stream",
     "text": [
      " * sqlite:///C:\\Users\\PC\\.ipynb_checkpoints\\TMDB.db\n",
      "Done.\n"
     ]
    },
    {
     "data": {
      "text/html": [
       "<table>\n",
       "    <thead>\n",
       "        <tr>\n",
       "            <th>actor_name</th>\n",
       "            <th>appearances</th>\n",
       "        </tr>\n",
       "    </thead>\n",
       "    <tbody>\n",
       "        <tr>\n",
       "            <td>Samuel L. Jackson</td>\n",
       "            <td>67</td>\n",
       "        </tr>\n",
       "        <tr>\n",
       "            <td>Robert De Niro</td>\n",
       "            <td>57</td>\n",
       "        </tr>\n",
       "        <tr>\n",
       "            <td>Bruce Willis</td>\n",
       "            <td>51</td>\n",
       "        </tr>\n",
       "        <tr>\n",
       "            <td>Matt Damon</td>\n",
       "            <td>48</td>\n",
       "        </tr>\n",
       "        <tr>\n",
       "            <td>Morgan Freeman</td>\n",
       "            <td>46</td>\n",
       "        </tr>\n",
       "        <tr>\n",
       "            <td>Steve Buscemi</td>\n",
       "            <td>43</td>\n",
       "        </tr>\n",
       "        <tr>\n",
       "            <td>Liam Neeson</td>\n",
       "            <td>41</td>\n",
       "        </tr>\n",
       "        <tr>\n",
       "            <td>Owen Wilson</td>\n",
       "            <td>40</td>\n",
       "        </tr>\n",
       "        <tr>\n",
       "            <td>Johnny Depp</td>\n",
       "            <td>40</td>\n",
       "        </tr>\n",
       "        <tr>\n",
       "            <td>Nicolas Cage</td>\n",
       "            <td>39</td>\n",
       "        </tr>\n",
       "    </tbody>\n",
       "</table>"
      ],
      "text/plain": [
       "[('Samuel L. Jackson', 67),\n",
       " ('Robert De Niro', 57),\n",
       " ('Bruce Willis', 51),\n",
       " ('Matt Damon', 48),\n",
       " ('Morgan Freeman', 46),\n",
       " ('Steve Buscemi', 43),\n",
       " ('Liam Neeson', 41),\n",
       " ('Owen Wilson', 40),\n",
       " ('Johnny Depp', 40),\n",
       " ('Nicolas Cage', 39)]"
      ]
     },
     "execution_count": 14,
     "metadata": {},
     "output_type": "execute_result"
    }
   ],
   "source": [
    "%%sql\n",
    "SELECT a.actor_name, COUNT(*) AS appearances\n",
    "FROM casts c\n",
    "JOIN actors a ON c.actor_id = a.actor_id\n",
    "GROUP BY a.actor_name\n",
    "ORDER BY appearances DESC\n",
    "LIMIT 10;"
   ]
  },
  {
   "cell_type": "code",
   "execution_count": 15,
   "id": "5631491b",
   "metadata": {},
   "outputs": [
    {
     "name": "stdout",
     "output_type": "stream",
     "text": [
      " * sqlite:///C:\\Users\\PC\\.ipynb_checkpoints\\TMDB.db\n",
      "Done.\n",
      "Returning data to local variable Top_Actors\n"
     ]
    }
   ],
   "source": [
    "%%sql Top_Actors <<\n",
    "SELECT a.actor_name, COUNT(*) AS appearances\n",
    "FROM casts c\n",
    "JOIN actors a ON c.actor_id = a.actor_id\n",
    "GROUP BY a.actor_name\n",
    "ORDER BY appearances DESC\n",
    "LIMIT 10;\n"
   ]
  },
  {
   "cell_type": "code",
   "execution_count": 16,
   "id": "655d7159",
   "metadata": {},
   "outputs": [
    {
     "data": {
      "image/png": "[encoded data removed]",
      "text/plain": [
       "<Figure size 1000x500 with 1 Axes>"
      ]
     },
     "metadata": {},
     "output_type": "display_data"
    }
   ],
   "source": [
    "df = Top_Actors.DataFrame()\n",
    "df.plot(kind=\"barh\", x=\"actor_name\", y=\"appearances\", legend=False, figsize=(10,5))\n",
    "plt.title(\"Top 10 Actors by Movie Appearances\")\n",
    "plt.xlabel(\"Number of Movies\")\n",
    "plt.ylabel(\"Actor\")\n",
    "plt.gca().invert_yaxis()  # biggest at the top\n",
    "plt.tight_layout()\n",
    "plt.show()"
   ]
  },
  {
   "cell_type": "markdown",
   "id": "d8470d32",
   "metadata": {},
   "source": [
    "### *Observation*\n",
    "The most prolific actors in the database appear in dozens of movies each, showing strong careers spanning multiple decades. A notable observation is that the top actors are not necessarily global household names, but rather steady working actors who often take on supporting roles—demonstrating how career longevity doesn’t always equal star power."
   ]
  },
  {
   "cell_type": "markdown",
   "id": "11aabce0",
   "metadata": {},
   "source": [
    "### 4. Revenue vs Budget"
   ]
  },
  {
   "cell_type": "code",
   "execution_count": 17,
   "id": "98e3c98c",
   "metadata": {},
   "outputs": [
    {
     "name": "stdout",
     "output_type": "stream",
     "text": [
      " * sqlite:///C:\\Users\\PC\\.ipynb_checkpoints\\TMDB.db\n",
      "Done.\n",
      "Returning data to local variable revenue_budget\n"
     ]
    }
   ],
   "source": [
    "%%sql revenue_budget <<\n",
    "SELECT title, budget, revenue\n",
    "FROM movies\n",
    "WHERE budget > 0 AND revenue > 0;"
   ]
  },
  {
   "cell_type": "code",
   "execution_count": 18,
   "id": "4d06110d",
   "metadata": {},
   "outputs": [
    {
     "name": "stdout",
     "output_type": "stream",
     "text": [
      " * sqlite:///C:\\Users\\PC\\.ipynb_checkpoints\\TMDB.db\n",
      "Done.\n"
     ]
    },
    {
     "data": {
      "text/html": [
       "<table>\n",
       "    <thead>\n",
       "        <tr>\n",
       "            <th>title</th>\n",
       "            <th>budget</th>\n",
       "            <th>revenue</th>\n",
       "        </tr>\n",
       "    </thead>\n",
       "    <tbody>\n",
       "        <tr>\n",
       "            <td>Four Rooms</td>\n",
       "            <td>4000000</td>\n",
       "            <td>4300000.0</td>\n",
       "        </tr>\n",
       "        <tr>\n",
       "            <td>Star Wars</td>\n",
       "            <td>11000000</td>\n",
       "            <td>775398007.0</td>\n",
       "        </tr>\n",
       "        <tr>\n",
       "            <td>Finding Nemo</td>\n",
       "            <td>94000000</td>\n",
       "            <td>940335536.0</td>\n",
       "        </tr>\n",
       "        <tr>\n",
       "            <td>Forrest Gump</td>\n",
       "            <td>55000000</td>\n",
       "            <td>677945399.0</td>\n",
       "        </tr>\n",
       "        <tr>\n",
       "            <td>American Beauty</td>\n",
       "            <td>15000000</td>\n",
       "            <td>356296601.0</td>\n",
       "        </tr>\n",
       "        <tr>\n",
       "            <td>Dancer in the Dark</td>\n",
       "            <td>12800000</td>\n",
       "            <td>40031879.0</td>\n",
       "        </tr>\n",
       "        <tr>\n",
       "            <td>The Fifth Element</td>\n",
       "            <td>90000000</td>\n",
       "            <td>263920180.0</td>\n",
       "        </tr>\n",
       "        <tr>\n",
       "            <td>Metropolis</td>\n",
       "            <td>92620000</td>\n",
       "            <td>650422.0</td>\n",
       "        </tr>\n",
       "        <tr>\n",
       "            <td>Pirates of the Caribbean: The Curse of the Black Pearl</td>\n",
       "            <td>140000000</td>\n",
       "            <td>655011224.0</td>\n",
       "        </tr>\n",
       "        <tr>\n",
       "            <td>Kill Bill: Vol. 1</td>\n",
       "            <td>30000000</td>\n",
       "            <td>180949000.0</td>\n",
       "        </tr>\n",
       "    </tbody>\n",
       "</table>"
      ],
      "text/plain": [
       "[('Four Rooms', 4000000, 4300000.0),\n",
       " ('Star Wars', 11000000, 775398007.0),\n",
       " ('Finding Nemo', 94000000, 940335536.0),\n",
       " ('Forrest Gump', 55000000, 677945399.0),\n",
       " ('American Beauty', 15000000, 356296601.0),\n",
       " ('Dancer in the Dark', 12800000, 40031879.0),\n",
       " ('The Fifth Element', 90000000, 263920180.0),\n",
       " ('Metropolis', 92620000, 650422.0),\n",
       " ('Pirates of the Caribbean: The Curse of the Black Pearl', 140000000, 655011224.0),\n",
       " ('Kill Bill: Vol. 1', 30000000, 180949000.0)]"
      ]
     },
     "execution_count": 18,
     "metadata": {},
     "output_type": "execute_result"
    }
   ],
   "source": [
    "%%sql \n",
    "SELECT title, budget, revenue\n",
    "FROM movies\n",
    "WHERE budget > 0 AND revenue > 0\n",
    "LIMIT 10;"
   ]
  },
  {
   "cell_type": "code",
   "execution_count": 19,
   "id": "35564f64",
   "metadata": {},
   "outputs": [
    {
     "data": {
      "image/png": "[encoded data removed]",
      "text/plain": [
       "<Figure size 800x600 with 1 Axes>"
      ]
     },
     "metadata": {},
     "output_type": "display_data"
    }
   ],
   "source": [
    "df_revenue_budget = revenue_budget.DataFrame()\n",
    "\n",
    "import matplotlib.pyplot as plt\n",
    "\n",
    "plt.figure(figsize=(8,6))\n",
    "plt.scatter(df_revenue_budget[\"budget\"], df_revenue_budget[\"revenue\"], alpha=0.5)\n",
    "\n",
    "plt.title(\"Movie Revenue vs Budget\")\n",
    "plt.xlabel(\"Budget\")\n",
    "plt.ylabel(\"Revenue\")\n",
    "\n",
    "# Break-even line (y = x)\n",
    "plt.plot([df_revenue_budget[\"budget\"].min(), df_revenue_budget[\"budget\"].max()],\n",
    "         [df_revenue_budget[\"budget\"].min(), df_revenue_budget[\"budget\"].max()],\n",
    "         color=\"red\", linestyle=\"--\", label=\"Break-even\")\n",
    "\n",
    "plt.legend()\n",
    "plt.tight_layout()\n",
    "plt.show()\n"
   ]
  },
  {
   "cell_type": "markdown",
   "id": "13cc19dc",
   "metadata": {},
   "source": [
    "### *Observation*\n",
    "- **Budget Distribution:** Most movies cluster at lower budgets (under ~$100 million) with correspondingly lower revenues, indicating high-budget films are less common.  \n",
    "\n",
    "- **High-Budget Films:** While several high-budget films achieve substantial revenue, some fail to recoup costs, highlighting that a large budget does not guarantee profitability.  \n",
    "\n",
    "- **Break-Even Observation:**Many movies lie near or below the break-even line, suggesting they did not make a profit. Only a subset exceed this line, showing successful returns.  \n",
    "\n",
    "- **Revenue vs Budget Relationship:** Revenue is not perfectly proportional to budget. Modest-budget movies can achieve high revenue, emphasizing the role of content quality, franchises, and marketing.  \n",
    "\n",
    "- **Overall Insight:** Larger budgets increase revenue potential but do not ensure profitability. Most films operate on modest budgets, and financial success varies widely.\n"
   ]
  },
  {
   "cell_type": "markdown",
   "id": "87ef4bff",
   "metadata": {},
   "source": [
    "### 5. Average Rating Per Year"
   ]
  },
  {
   "cell_type": "code",
   "execution_count": 20,
   "id": "eda7c63b",
   "metadata": {},
   "outputs": [
    {
     "name": "stdout",
     "output_type": "stream",
     "text": [
      " * sqlite:///C:\\Users\\PC\\.ipynb_checkpoints\\TMDB.db\n",
      "Done.\n"
     ]
    },
    {
     "data": {
      "text/html": [
       "<table>\n",
       "    <thead>\n",
       "        <tr>\n",
       "            <th>year</th>\n",
       "            <th>avg_rating</th>\n",
       "        </tr>\n",
       "    </thead>\n",
       "    <tbody>\n",
       "        <tr>\n",
       "            <td>1916</td>\n",
       "            <td>7.4</td>\n",
       "        </tr>\n",
       "        <tr>\n",
       "            <td>1925</td>\n",
       "            <td>7.0</td>\n",
       "        </tr>\n",
       "        <tr>\n",
       "            <td>1927</td>\n",
       "            <td>8.0</td>\n",
       "        </tr>\n",
       "        <tr>\n",
       "            <td>1929</td>\n",
       "            <td>6.3</td>\n",
       "        </tr>\n",
       "        <tr>\n",
       "            <td>1930</td>\n",
       "            <td>6.1</td>\n",
       "        </tr>\n",
       "        <tr>\n",
       "            <td>1932</td>\n",
       "            <td>6.2</td>\n",
       "        </tr>\n",
       "        <tr>\n",
       "            <td>1933</td>\n",
       "            <td>5.6</td>\n",
       "        </tr>\n",
       "        <tr>\n",
       "            <td>1934</td>\n",
       "            <td>7.7</td>\n",
       "        </tr>\n",
       "        <tr>\n",
       "            <td>1935</td>\n",
       "            <td>7.4</td>\n",
       "        </tr>\n",
       "        <tr>\n",
       "            <td>1936</td>\n",
       "            <td>7.449999999999999</td>\n",
       "        </tr>\n",
       "        <tr>\n",
       "            <td>1937</td>\n",
       "            <td>7.65</td>\n",
       "        </tr>\n",
       "        <tr>\n",
       "            <td>1938</td>\n",
       "            <td>6.0</td>\n",
       "        </tr>\n",
       "        <tr>\n",
       "            <td>1939</td>\n",
       "            <td>7.666666666666667</td>\n",
       "        </tr>\n",
       "        <tr>\n",
       "            <td>1940</td>\n",
       "            <td>6.94</td>\n",
       "        </tr>\n",
       "        <tr>\n",
       "            <td>1941</td>\n",
       "            <td>6.8</td>\n",
       "        </tr>\n",
       "        <tr>\n",
       "            <td>1942</td>\n",
       "            <td>7.35</td>\n",
       "        </tr>\n",
       "        <tr>\n",
       "            <td>1944</td>\n",
       "            <td>6.5</td>\n",
       "        </tr>\n",
       "        <tr>\n",
       "            <td>1945</td>\n",
       "            <td>6.675</td>\n",
       "        </tr>\n",
       "        <tr>\n",
       "            <td>1946</td>\n",
       "            <td>7.266666666666667</td>\n",
       "        </tr>\n",
       "        <tr>\n",
       "            <td>1947</td>\n",
       "            <td>6.866666666666667</td>\n",
       "        </tr>\n",
       "        <tr>\n",
       "            <td>1948</td>\n",
       "            <td>6.966666666666666</td>\n",
       "        </tr>\n",
       "        <tr>\n",
       "            <td>1949</td>\n",
       "            <td>6.65</td>\n",
       "        </tr>\n",
       "        <tr>\n",
       "            <td>1950</td>\n",
       "            <td>7.3</td>\n",
       "        </tr>\n",
       "        <tr>\n",
       "            <td>1951</td>\n",
       "            <td>7.166666666666667</td>\n",
       "        </tr>\n",
       "        <tr>\n",
       "            <td>1952</td>\n",
       "            <td>7.225</td>\n",
       "        </tr>\n",
       "        <tr>\n",
       "            <td>1953</td>\n",
       "            <td>6.75</td>\n",
       "        </tr>\n",
       "        <tr>\n",
       "            <td>1954</td>\n",
       "            <td>7.25</td>\n",
       "        </tr>\n",
       "        <tr>\n",
       "            <td>1955</td>\n",
       "            <td>7.35</td>\n",
       "        </tr>\n",
       "        <tr>\n",
       "            <td>1956</td>\n",
       "            <td>6.266666666666667</td>\n",
       "        </tr>\n",
       "        <tr>\n",
       "            <td>1957</td>\n",
       "            <td>7.949999999999999</td>\n",
       "        </tr>\n",
       "        <tr>\n",
       "            <td>1958</td>\n",
       "            <td>7.6</td>\n",
       "        </tr>\n",
       "        <tr>\n",
       "            <td>1959</td>\n",
       "            <td>6.933333333333334</td>\n",
       "        </tr>\n",
       "        <tr>\n",
       "            <td>1960</td>\n",
       "            <td>7.866666666666666</td>\n",
       "        </tr>\n",
       "        <tr>\n",
       "            <td>1961</td>\n",
       "            <td>7.26</td>\n",
       "        </tr>\n",
       "        <tr>\n",
       "            <td>1962</td>\n",
       "            <td>7.0</td>\n",
       "        </tr>\n",
       "        <tr>\n",
       "            <td>1963</td>\n",
       "            <td>6.7875</td>\n",
       "        </tr>\n",
       "        <tr>\n",
       "            <td>1964</td>\n",
       "            <td>7.220000000000001</td>\n",
       "        </tr>\n",
       "        <tr>\n",
       "            <td>1965</td>\n",
       "            <td>6.9</td>\n",
       "        </tr>\n",
       "        <tr>\n",
       "            <td>1966</td>\n",
       "            <td>6.733333333333334</td>\n",
       "        </tr>\n",
       "        <tr>\n",
       "            <td>1967</td>\n",
       "            <td>6.825000000000001</td>\n",
       "        </tr>\n",
       "        <tr>\n",
       "            <td>1968</td>\n",
       "            <td>6.860000000000001</td>\n",
       "        </tr>\n",
       "        <tr>\n",
       "            <td>1969</td>\n",
       "            <td>6.6</td>\n",
       "        </tr>\n",
       "        <tr>\n",
       "            <td>1970</td>\n",
       "            <td>6.650000000000001</td>\n",
       "        </tr>\n",
       "        <tr>\n",
       "            <td>1971</td>\n",
       "            <td>6.640000000000001</td>\n",
       "        </tr>\n",
       "        <tr>\n",
       "            <td>1972</td>\n",
       "            <td>7.033333333333333</td>\n",
       "        </tr>\n",
       "        <tr>\n",
       "            <td>1973</td>\n",
       "            <td>7.0</td>\n",
       "        </tr>\n",
       "        <tr>\n",
       "            <td>1974</td>\n",
       "            <td>7.150000000000001</td>\n",
       "        </tr>\n",
       "        <tr>\n",
       "            <td>1975</td>\n",
       "            <td>7.3</td>\n",
       "        </tr>\n",
       "        <tr>\n",
       "            <td>1976</td>\n",
       "            <td>7.1000000000000005</td>\n",
       "        </tr>\n",
       "        <tr>\n",
       "            <td>1977</td>\n",
       "            <td>6.5375000000000005</td>\n",
       "        </tr>\n",
       "        <tr>\n",
       "            <td>1978</td>\n",
       "            <td>6.628571428571429</td>\n",
       "        </tr>\n",
       "        <tr>\n",
       "            <td>1979</td>\n",
       "            <td>6.4750000000000005</td>\n",
       "        </tr>\n",
       "        <tr>\n",
       "            <td>1980</td>\n",
       "            <td>6.609090909090909</td>\n",
       "        </tr>\n",
       "        <tr>\n",
       "            <td>1981</td>\n",
       "            <td>6.363636363636364</td>\n",
       "        </tr>\n",
       "        <tr>\n",
       "            <td>1982</td>\n",
       "            <td>6.400000000000002</td>\n",
       "        </tr>\n",
       "        <tr>\n",
       "            <td>1983</td>\n",
       "            <td>6.052173913043479</td>\n",
       "        </tr>\n",
       "        <tr>\n",
       "            <td>1984</td>\n",
       "            <td>6.510714285714287</td>\n",
       "        </tr>\n",
       "        <tr>\n",
       "            <td>1985</td>\n",
       "            <td>6.492857142857142</td>\n",
       "        </tr>\n",
       "        <tr>\n",
       "            <td>1986</td>\n",
       "            <td>6.173076923076923</td>\n",
       "        </tr>\n",
       "        <tr>\n",
       "            <td>1987</td>\n",
       "            <td>6.287096774193548</td>\n",
       "        </tr>\n",
       "        <tr>\n",
       "            <td>1988</td>\n",
       "            <td>6.316129032258065</td>\n",
       "        </tr>\n",
       "        <tr>\n",
       "            <td>1989</td>\n",
       "            <td>6.49375</td>\n",
       "        </tr>\n",
       "        <tr>\n",
       "            <td>1990</td>\n",
       "            <td>6.317241379310344</td>\n",
       "        </tr>\n",
       "        <tr>\n",
       "            <td>1991</td>\n",
       "            <td>6.179999999999998</td>\n",
       "        </tr>\n",
       "        <tr>\n",
       "            <td>1992</td>\n",
       "            <td>6.561764705882352</td>\n",
       "        </tr>\n",
       "        <tr>\n",
       "            <td>1993</td>\n",
       "            <td>6.4723404255319155</td>\n",
       "        </tr>\n",
       "        <tr>\n",
       "            <td>1994</td>\n",
       "            <td>6.318181818181818</td>\n",
       "        </tr>\n",
       "        <tr>\n",
       "            <td>1995</td>\n",
       "            <td>6.329999999999998</td>\n",
       "        </tr>\n",
       "        <tr>\n",
       "            <td>1996</td>\n",
       "            <td>6.134020618556702</td>\n",
       "        </tr>\n",
       "        <tr>\n",
       "            <td>1997</td>\n",
       "            <td>6.254464285714285</td>\n",
       "        </tr>\n",
       "        <tr>\n",
       "            <td>1998</td>\n",
       "            <td>6.212030075187969</td>\n",
       "        </tr>\n",
       "        <tr>\n",
       "            <td>1999</td>\n",
       "            <td>6.110526315789474</td>\n",
       "        </tr>\n",
       "        <tr>\n",
       "            <td>2000</td>\n",
       "            <td>5.956024096385541</td>\n",
       "        </tr>\n",
       "        <tr>\n",
       "            <td>2001</td>\n",
       "            <td>6.046994535519121</td>\n",
       "        </tr>\n",
       "        <tr>\n",
       "            <td>2002</td>\n",
       "            <td>6.096551724137933</td>\n",
       "        </tr>\n",
       "        <tr>\n",
       "            <td>2003</td>\n",
       "            <td>6.0124260355029575</td>\n",
       "        </tr>\n",
       "        <tr>\n",
       "            <td>2004</td>\n",
       "            <td>6.104411764705883</td>\n",
       "        </tr>\n",
       "        <tr>\n",
       "            <td>2005</td>\n",
       "            <td>6.068202764976956</td>\n",
       "        </tr>\n",
       "        <tr>\n",
       "            <td>2006</td>\n",
       "            <td>6.1299578059071695</td>\n",
       "        </tr>\n",
       "        <tr>\n",
       "            <td>2007</td>\n",
       "            <td>6.08820512820513</td>\n",
       "        </tr>\n",
       "        <tr>\n",
       "            <td>2008</td>\n",
       "            <td>6.095154185022026</td>\n",
       "        </tr>\n",
       "        <tr>\n",
       "            <td>2009</td>\n",
       "            <td>6.065587044534415</td>\n",
       "        </tr>\n",
       "        <tr>\n",
       "            <td>2010</td>\n",
       "            <td>5.968000000000001</td>\n",
       "        </tr>\n",
       "        <tr>\n",
       "            <td>2011</td>\n",
       "            <td>6.011210762331839</td>\n",
       "        </tr>\n",
       "        <tr>\n",
       "            <td>2012</td>\n",
       "            <td>5.909615384615384</td>\n",
       "        </tr>\n",
       "        <tr>\n",
       "            <td>2013</td>\n",
       "            <td>6.089177489177489</td>\n",
       "        </tr>\n",
       "        <tr>\n",
       "            <td>2014</td>\n",
       "            <td>5.5789915966386525</td>\n",
       "        </tr>\n",
       "        <tr>\n",
       "            <td>2015</td>\n",
       "            <td>5.593981481481477</td>\n",
       "        </tr>\n",
       "        <tr>\n",
       "            <td>2016</td>\n",
       "            <td>5.833653846153846</td>\n",
       "        </tr>\n",
       "        <tr>\n",
       "            <td>2017</td>\n",
       "            <td>7.4</td>\n",
       "        </tr>\n",
       "    </tbody>\n",
       "</table>"
      ],
      "text/plain": [
       "[('1916', 7.4),\n",
       " ('1925', 7.0),\n",
       " ('1927', 8.0),\n",
       " ('1929', 6.3),\n",
       " ('1930', 6.1),\n",
       " ('1932', 6.2),\n",
       " ('1933', 5.6),\n",
       " ('1934', 7.7),\n",
       " ('1935', 7.4),\n",
       " ('1936', 7.449999999999999),\n",
       " ('1937', 7.65),\n",
       " ('1938', 6.0),\n",
       " ('1939', 7.666666666666667),\n",
       " ('1940', 6.94),\n",
       " ('1941', 6.8),\n",
       " ('1942', 7.35),\n",
       " ('1944', 6.5),\n",
       " ('1945', 6.675),\n",
       " ('1946', 7.266666666666667),\n",
       " ('1947', 6.866666666666667),\n",
       " ('1948', 6.966666666666666),\n",
       " ('1949', 6.65),\n",
       " ('1950', 7.3),\n",
       " ('1951', 7.166666666666667),\n",
       " ('1952', 7.225),\n",
       " ('1953', 6.75),\n",
       " ('1954', 7.25),\n",
       " ('1955', 7.35),\n",
       " ('1956', 6.266666666666667),\n",
       " ('1957', 7.949999999999999),\n",
       " ('1958', 7.6),\n",
       " ('1959', 6.933333333333334),\n",
       " ('1960', 7.866666666666666),\n",
       " ('1961', 7.26),\n",
       " ('1962', 7.0),\n",
       " ('1963', 6.7875),\n",
       " ('1964', 7.220000000000001),\n",
       " ('1965', 6.9),\n",
       " ('1966', 6.733333333333334),\n",
       " ('1967', 6.825000000000001),\n",
       " ('1968', 6.860000000000001),\n",
       " ('1969', 6.6),\n",
       " ('1970', 6.650000000000001),\n",
       " ('1971', 6.640000000000001),\n",
       " ('1972', 7.033333333333333),\n",
       " ('1973', 7.0),\n",
       " ('1974', 7.150000000000001),\n",
       " ('1975', 7.3),\n",
       " ('1976', 7.1000000000000005),\n",
       " ('1977', 6.5375000000000005),\n",
       " ('1978', 6.628571428571429),\n",
       " ('1979', 6.4750000000000005),\n",
       " ('1980', 6.609090909090909),\n",
       " ('1981', 6.363636363636364),\n",
       " ('1982', 6.400000000000002),\n",
       " ('1983', 6.052173913043479),\n",
       " ('1984', 6.510714285714287),\n",
       " ('1985', 6.492857142857142),\n",
       " ('1986', 6.173076923076923),\n",
       " ('1987', 6.287096774193548),\n",
       " ('1988', 6.316129032258065),\n",
       " ('1989', 6.49375),\n",
       " ('1990', 6.317241379310344),\n",
       " ('1991', 6.179999999999998),\n",
       " ('1992', 6.561764705882352),\n",
       " ('1993', 6.4723404255319155),\n",
       " ('1994', 6.318181818181818),\n",
       " ('1995', 6.329999999999998),\n",
       " ('1996', 6.134020618556702),\n",
       " ('1997', 6.254464285714285),\n",
       " ('1998', 6.212030075187969),\n",
       " ('1999', 6.110526315789474),\n",
       " ('2000', 5.956024096385541),\n",
       " ('2001', 6.046994535519121),\n",
       " ('2002', 6.096551724137933),\n",
       " ('2003', 6.0124260355029575),\n",
       " ('2004', 6.104411764705883),\n",
       " ('2005', 6.068202764976956),\n",
       " ('2006', 6.1299578059071695),\n",
       " ('2007', 6.08820512820513),\n",
       " ('2008', 6.095154185022026),\n",
       " ('2009', 6.065587044534415),\n",
       " ('2010', 5.968000000000001),\n",
       " ('2011', 6.011210762331839),\n",
       " ('2012', 5.909615384615384),\n",
       " ('2013', 6.089177489177489),\n",
       " ('2014', 5.5789915966386525),\n",
       " ('2015', 5.593981481481477),\n",
       " ('2016', 5.833653846153846),\n",
       " ('2017', 7.4)]"
      ]
     },
     "execution_count": 20,
     "metadata": {},
     "output_type": "execute_result"
    }
   ],
   "source": [
    "%%sql\n",
    "SELECT strftime('%Y', release_date) AS year, AVG(vote_average) AS avg_rating\n",
    "FROM movies\n",
    "WHERE release_date IS NOT NULL\n",
    "GROUP BY year\n",
    "ORDER BY year;"
   ]
  },
  {
   "cell_type": "code",
   "execution_count": 21,
   "id": "8b200df3",
   "metadata": {
    "scrolled": true
   },
   "outputs": [
    {
     "name": "stdout",
     "output_type": "stream",
     "text": [
      " * sqlite:///C:\\Users\\PC\\.ipynb_checkpoints\\TMDB.db\n",
      "Done.\n",
      "Returning data to local variable ratings_year\n"
     ]
    }
   ],
   "source": [
    "%%sql ratings_year <<\n",
    "SELECT strftime('%Y', release_date) AS year, AVG(vote_average) AS avg_rating\n",
    "FROM movies\n",
    "WHERE release_date IS NOT NULL\n",
    "GROUP BY year\n",
    "ORDER BY year;"
   ]
  },
  {
   "cell_type": "code",
   "execution_count": 22,
   "id": "88c6843a",
   "metadata": {},
   "outputs": [
    {
     "data": {
      "image/png": "[encoded data removed]",
      "text/plain": [
       "<Figure size 1000x500 with 1 Axes>"
      ]
     },
     "metadata": {},
     "output_type": "display_data"
    }
   ],
   "source": [
    "df_ratings_year = ratings_year.DataFrame()\n",
    "\n",
    "df_ratings_year.plot(x=\"year\", y=\"avg_rating\", figsize=(10,5))\n",
    "plt.title(\"Average Movie Ratings Over Time\")\n",
    "plt.xlabel(\"Year\")\n",
    "plt.ylabel(\"Average Rating\")\n",
    "plt.show()"
   ]
  },
  {
   "cell_type": "markdown",
   "id": "ecf7d8b8",
   "metadata": {},
   "source": [
    "### *Observation*\n",
    "- **Early Years (1910s–1930s):** Ratings fluctuate, sometimes very high (e.g., 1927 – 8.0, 1934 – 7.7), likely due to fewer films and selective reporting.  \n",
    "- **Mid-20th Century (1940s–1970s):** Ratings stabilize around 6.5–7.5, reflecting consistent audience appreciation.  \n",
    "- **1980s–2000s:** Average ratings gradually decline to 6.0–6.5, suggesting a broader range of film quality and more votes.  \n",
    "- **2010–2016:** Ratings drop further to around 5.5–6.0, possibly due to dataset size and modern rating behavior.  \n",
    "- **2017 Spike:** Sharp increase to 7.4, likely because only a few highly-rated films are recorded.  \n",
    "\n",
    "**Overall Insight:** Movie ratings show a general decline from mid-20th century to early 2010s, with fluctuations influenced by dataset size, voting patterns, and film selection.\n"
   ]
  },
  {
   "cell_type": "markdown",
   "id": "79dc3d5f",
   "metadata": {},
   "source": [
    "### 6. Number of unique awards in the Oscars table"
   ]
  },
  {
   "cell_type": "code",
   "execution_count": 23,
   "id": "f4621a53",
   "metadata": {},
   "outputs": [
    {
     "name": "stdout",
     "output_type": "stream",
     "text": [
      " * sqlite:///C:\\Users\\PC\\.ipynb_checkpoints\\TMDB.db\n",
      "Done.\n"
     ]
    },
    {
     "data": {
      "text/html": [
       "<table>\n",
       "    <thead>\n",
       "        <tr>\n",
       "            <th>number_of_unique_awards</th>\n",
       "        </tr>\n",
       "    </thead>\n",
       "    <tbody>\n",
       "        <tr>\n",
       "            <td>114</td>\n",
       "        </tr>\n",
       "    </tbody>\n",
       "</table>"
      ],
      "text/plain": [
       "[(114,)]"
      ]
     },
     "execution_count": 23,
     "metadata": {},
     "output_type": "execute_result"
    }
   ],
   "source": [
    "%%sql\n",
    "SELECT COUNT(DISTINCT award) AS number_of_unique_awards\n",
    "FROM oscars"
   ]
  },
  {
   "cell_type": "code",
   "execution_count": 24,
   "id": "fbf98504",
   "metadata": {},
   "outputs": [
    {
     "name": "stdout",
     "output_type": "stream",
     "text": [
      " * sqlite:///C:\\Users\\PC\\.ipynb_checkpoints\\TMDB.db\n",
      "Done.\n"
     ]
    },
    {
     "data": {
      "text/html": [
       "<table>\n",
       "    <thead>\n",
       "        <tr>\n",
       "            <th>award</th>\n",
       "        </tr>\n",
       "    </thead>\n",
       "    <tbody>\n",
       "        <tr>\n",
       "            <td>Actor</td>\n",
       "        </tr>\n",
       "        <tr>\n",
       "            <td>Actor in a Leading Role</td>\n",
       "        </tr>\n",
       "        <tr>\n",
       "            <td>Actor in a Supporting Role</td>\n",
       "        </tr>\n",
       "        <tr>\n",
       "            <td>Actress</td>\n",
       "        </tr>\n",
       "        <tr>\n",
       "            <td>Actress in a Leading Role</td>\n",
       "        </tr>\n",
       "        <tr>\n",
       "            <td>Actress in a Supporting Role</td>\n",
       "        </tr>\n",
       "        <tr>\n",
       "            <td>Animated Feature Film</td>\n",
       "        </tr>\n",
       "        <tr>\n",
       "            <td>Art Direction</td>\n",
       "        </tr>\n",
       "        <tr>\n",
       "            <td>Art Direction (Black and White)</td>\n",
       "        </tr>\n",
       "        <tr>\n",
       "            <td>Art Direction (Color)</td>\n",
       "        </tr>\n",
       "    </tbody>\n",
       "</table>"
      ],
      "text/plain": [
       "[('Actor',),\n",
       " ('Actor in a Leading Role',),\n",
       " ('Actor in a Supporting Role',),\n",
       " ('Actress',),\n",
       " ('Actress in a Leading Role',),\n",
       " ('Actress in a Supporting Role',),\n",
       " ('Animated Feature Film',),\n",
       " ('Art Direction',),\n",
       " ('Art Direction (Black and White)',),\n",
       " ('Art Direction (Color)',)]"
      ]
     },
     "execution_count": 24,
     "metadata": {},
     "output_type": "execute_result"
    }
   ],
   "source": [
    "%%sql\n",
    "-- Preview the first 10 awards (alphabetically)\n",
    "SELECT award\n",
    "FROM oscars\n",
    "GROUP BY award\n",
    "ORDER BY award\n",
    "LIMIT 10;\n"
   ]
  },
  {
   "cell_type": "markdown",
   "id": "7905edfc",
   "metadata": {},
   "source": [
    "### *Observation*\n",
    "The Oscars table contains 114 distinct award categories, covering a wide spectrum beyond the well-known \"Best Actor\" or \"Best Picture\". Many of these represent technical or short-lived categories, highlighting how the Academy has evolved its recognition over the decades."
   ]
  },
  {
   "cell_type": "markdown",
   "id": "11709e33",
   "metadata": {},
   "source": [
    "### 8. Who won the Oscar for “Actor in a Leading Role” in 2015?"
   ]
  },
  {
   "cell_type": "code",
   "execution_count": 25,
   "id": "91f3421f",
   "metadata": {},
   "outputs": [
    {
     "name": "stdout",
     "output_type": "stream",
     "text": [
      " * sqlite:///C:\\Users\\PC\\.ipynb_checkpoints\\TMDB.db\n",
      "Done.\n"
     ]
    },
    {
     "data": {
      "text/html": [
       "<table>\n",
       "    <thead>\n",
       "        <tr>\n",
       "            <th>name</th>\n",
       "            <th>winner</th>\n",
       "            <th>award</th>\n",
       "        </tr>\n",
       "    </thead>\n",
       "    <tbody>\n",
       "        <tr>\n",
       "            <td>Leonardo DiCaprio</td>\n",
       "            <td>1.0</td>\n",
       "            <td>Actor in a Leading Role</td>\n",
       "        </tr>\n",
       "    </tbody>\n",
       "</table>"
      ],
      "text/plain": [
       "[('Leonardo DiCaprio', '1.0', 'Actor in a Leading Role')]"
      ]
     },
     "execution_count": 25,
     "metadata": {},
     "output_type": "execute_result"
    }
   ],
   "source": [
    "%%sql\n",
    "SELECT name,winner,award\n",
    "FROM oscars\n",
    "WHERE year='2015' AND award='Actor in a Leading Role' AND winner='1.0';"
   ]
  },
  {
   "cell_type": "markdown",
   "id": "31612f2f",
   "metadata": {},
   "source": [
    "### *Observation*\n",
    "The Oscar for **“Actor in a Leading Role”** in 2015 was won by **Leonardo DiCaprio**."
   ]
  },
  {
   "cell_type": "markdown",
   "id": "a8b06373",
   "metadata": {},
   "source": [
    "### 9. How many movies are there that contain the word “Spider” within their title?"
   ]
  },
  {
   "cell_type": "code",
   "execution_count": 26,
   "id": "1e003247",
   "metadata": {},
   "outputs": [
    {
     "name": "stdout",
     "output_type": "stream",
     "text": [
      " * sqlite:///C:\\Users\\PC\\.ipynb_checkpoints\\TMDB.db\n",
      "Done.\n"
     ]
    },
    {
     "data": {
      "text/html": [
       "<table>\n",
       "    <thead>\n",
       "        <tr>\n",
       "            <th>number_of_movies_with_word_spider</th>\n",
       "        </tr>\n",
       "    </thead>\n",
       "    <tbody>\n",
       "        <tr>\n",
       "            <td>9</td>\n",
       "        </tr>\n",
       "    </tbody>\n",
       "</table>"
      ],
      "text/plain": [
       "[(9,)]"
      ]
     },
     "execution_count": 26,
     "metadata": {},
     "output_type": "execute_result"
    }
   ],
   "source": [
    "%%sql\n",
    "SELECT COUNT(title) AS number_of_movies_with_word_spider\n",
    "FROM movies\n",
    "WHERE title LIKE '%spider%'"
   ]
  },
  {
   "cell_type": "markdown",
   "id": "f0059cc8",
   "metadata": {},
   "source": [
    "### *Observation*\n",
    "There are numerous films with ‘Spider’ in their title, reflecting the popularity of superhero franchises (e.g., Spider-Man)."
   ]
  },
  {
   "cell_type": "markdown",
   "id": "2f77c5bd",
   "metadata": {},
   "source": [
    "### 10. How many movies are there that are both in the \"Thriller\" genre and contain the word “love” anywhere in the keywords?"
   ]
  },
  {
   "cell_type": "code",
   "execution_count": 27,
   "id": "abc5146c",
   "metadata": {},
   "outputs": [
    {
     "name": "stdout",
     "output_type": "stream",
     "text": [
      " * sqlite:///C:\\Users\\PC\\.ipynb_checkpoints\\TMDB.db\n",
      "Done.\n"
     ]
    },
    {
     "data": {
      "text/html": [
       "<table>\n",
       "    <thead>\n",
       "        <tr>\n",
       "            <th>COUNT(DISTINCT movies.title)</th>\n",
       "        </tr>\n",
       "    </thead>\n",
       "    <tbody>\n",
       "        <tr>\n",
       "            <td>48</td>\n",
       "        </tr>\n",
       "    </tbody>\n",
       "</table>"
      ],
      "text/plain": [
       "[(48,)]"
      ]
     },
     "execution_count": 27,
     "metadata": {},
     "output_type": "execute_result"
    }
   ],
   "source": [
    "%%sql\n",
    "SELECT COUNT(DISTINCT movies.title)\n",
    "FROM movies\n",
    "JOIN genremap\n",
    "     ON movies.movie_id=genremap.movie_id\n",
    "JOIN genres\n",
    "     ON genres.genre_id=genremap.genre_id\n",
    "JOIN keywordmap\n",
    "     ON keywordmap.movie_id=movies.movie_id\n",
    "JOIN keywords\n",
    "     ON keywords.keyword_id=keywordmap.keyword_id\n",
    "WHERE keywords.keyword_name LIKE '%love%' AND genres.genre_name='Thriller' "
   ]
  },
  {
   "cell_type": "markdown",
   "id": "3a7a83c0",
   "metadata": {},
   "source": [
    "### *Observation*\n",
    "There are relatively few movies that combine the Thriller genre with the keyword ‘love’, highlighting how these two themes rarely intersect in mainstream cinema."
   ]
  },
  {
   "cell_type": "markdown",
   "id": "8c6e82eb",
   "metadata": {},
   "source": [
    "### 11. How many movies are there that were released between 1 August 2006 ('2006-08-01') and 1 October 2009 ('2009-10-01') that have a popularity score of more than 40 and a budget of less than 50 000 000?"
   ]
  },
  {
   "cell_type": "code",
   "execution_count": 28,
   "id": "e8de6542",
   "metadata": {},
   "outputs": [
    {
     "name": "stdout",
     "output_type": "stream",
     "text": [
      " * sqlite:///C:\\Users\\PC\\.ipynb_checkpoints\\TMDB.db\n",
      "Done.\n"
     ]
    },
    {
     "data": {
      "text/html": [
       "<table>\n",
       "    <thead>\n",
       "        <tr>\n",
       "            <th>COUNT(title)</th>\n",
       "        </tr>\n",
       "    </thead>\n",
       "    <tbody>\n",
       "        <tr>\n",
       "            <td>29</td>\n",
       "        </tr>\n",
       "    </tbody>\n",
       "</table>"
      ],
      "text/plain": [
       "[(29,)]"
      ]
     },
     "execution_count": 28,
     "metadata": {},
     "output_type": "execute_result"
    }
   ],
   "source": [
    "%%sql\n",
    "SELECT \n",
    "    COUNT(title) \n",
    "FROM \n",
    "    movies\n",
    "WHERE \n",
    "    budget<50000000\n",
    "    AND popularity>40\n",
    "    AND release_date BETWEEN '2006-08-01' AND '2009-10-01';"
   ]
  },
  {
   "cell_type": "markdown",
   "id": "3a813d4a",
   "metadata": {},
   "source": [
    "### *Observation*\n",
    "Between 2006 and 2009, only a handful of films matched the criteria of being popular, low-budget (< $50M), and released in this timeframe. This underlines how high popularity is often tied to higher budgets, with indie films struggling to break through."
   ]
  },
  {
   "cell_type": "markdown",
   "id": "cf0d12b1",
   "metadata": {},
   "source": [
    "### 12. How many unique characters has \"Vin Diesel\" played so far in the database?"
   ]
  },
  {
   "cell_type": "code",
   "execution_count": 29,
   "id": "cc1eecb5",
   "metadata": {},
   "outputs": [
    {
     "name": "stdout",
     "output_type": "stream",
     "text": [
      " * sqlite:///C:\\Users\\PC\\.ipynb_checkpoints\\TMDB.db\n",
      "Done.\n"
     ]
    },
    {
     "data": {
      "text/html": [
       "<table>\n",
       "    <thead>\n",
       "        <tr>\n",
       "            <th>COUNT(DISTINCT characters)</th>\n",
       "        </tr>\n",
       "    </thead>\n",
       "    <tbody>\n",
       "        <tr>\n",
       "            <td>16</td>\n",
       "        </tr>\n",
       "    </tbody>\n",
       "</table>"
      ],
      "text/plain": [
       "[(16,)]"
      ]
     },
     "execution_count": 29,
     "metadata": {},
     "output_type": "execute_result"
    }
   ],
   "source": [
    "%%sql\n",
    "SELECT COUNT(DISTINCT characters)\n",
    "FROM casts\n",
    "JOIN actors\n",
    "     ON casts.actor_id=actors.actor_id\n",
    "WHERE actor_name='Vin Diesel';"
   ]
  },
  {
   "cell_type": "code",
   "execution_count": 30,
   "id": "54a01a6c",
   "metadata": {},
   "outputs": [
    {
     "name": "stdout",
     "output_type": "stream",
     "text": [
      " * sqlite:///C:\\Users\\PC\\.ipynb_checkpoints\\TMDB.db\n",
      "Done.\n"
     ]
    },
    {
     "data": {
      "text/html": [
       "<table>\n",
       "    <thead>\n",
       "        <tr>\n",
       "            <th>title</th>\n",
       "            <th>characters</th>\n",
       "        </tr>\n",
       "    </thead>\n",
       "    <tbody>\n",
       "        <tr>\n",
       "            <td>The Fifth Element</td>\n",
       "            <td>Finger (voice)</td>\n",
       "        </tr>\n",
       "        <tr>\n",
       "            <td>Saving Private Ryan</td>\n",
       "            <td>Private Adrian Caparzo</td>\n",
       "        </tr>\n",
       "        <tr>\n",
       "            <td>Pitch Black</td>\n",
       "            <td>Richard B. Riddick</td>\n",
       "        </tr>\n",
       "        <tr>\n",
       "            <td>The Chronicles of Riddick</td>\n",
       "            <td>Riddick</td>\n",
       "        </tr>\n",
       "        <tr>\n",
       "            <td>xXx</td>\n",
       "            <td>Xander Cage</td>\n",
       "        </tr>\n",
       "        <tr>\n",
       "            <td>Knockaround Guys</td>\n",
       "            <td>Taylor Reese</td>\n",
       "        </tr>\n",
       "        <tr>\n",
       "            <td>A Man Apart</td>\n",
       "            <td>Sean Vetter</td>\n",
       "        </tr>\n",
       "        <tr>\n",
       "            <td>Babylon A.D.</td>\n",
       "            <td>Toorop</td>\n",
       "        </tr>\n",
       "        <tr>\n",
       "            <td>The Fast and the Furious: Tokyo Drift</td>\n",
       "            <td>Dominic Toretto (uncredited)</td>\n",
       "        </tr>\n",
       "        <tr>\n",
       "            <td>The Fast and the Furious</td>\n",
       "            <td>Dominic Toretto</td>\n",
       "        </tr>\n",
       "        <tr>\n",
       "            <td>Find Me Guilty</td>\n",
       "            <td>Jackie DiNorscio</td>\n",
       "        </tr>\n",
       "        <tr>\n",
       "            <td>The Pacifier</td>\n",
       "            <td>Shane Wolf</td>\n",
       "        </tr>\n",
       "        <tr>\n",
       "            <td>The Iron Giant</td>\n",
       "            <td>The Iron Giant (voice)</td>\n",
       "        </tr>\n",
       "        <tr>\n",
       "            <td>Boiler Room</td>\n",
       "            <td>Chris Varick</td>\n",
       "        </tr>\n",
       "        <tr>\n",
       "            <td>Fast Five</td>\n",
       "            <td>Dominic Toretto</td>\n",
       "        </tr>\n",
       "        <tr>\n",
       "            <td>Riddick</td>\n",
       "            <td>Riddick</td>\n",
       "        </tr>\n",
       "        <tr>\n",
       "            <td>Guardians of the Galaxy</td>\n",
       "            <td>Groot (voice)</td>\n",
       "        </tr>\n",
       "        <tr>\n",
       "            <td>Furious 7</td>\n",
       "            <td>Dominic Toretto</td>\n",
       "        </tr>\n",
       "        <tr>\n",
       "            <td>The Last Witch Hunter</td>\n",
       "            <td>Kaulder</td>\n",
       "        </tr>\n",
       "    </tbody>\n",
       "</table>"
      ],
      "text/plain": [
       "[('The Fifth Element', 'Finger (voice)'),\n",
       " ('Saving Private Ryan', 'Private Adrian Caparzo'),\n",
       " ('Pitch Black', 'Richard B. Riddick'),\n",
       " ('The Chronicles of Riddick', 'Riddick'),\n",
       " ('xXx', 'Xander Cage'),\n",
       " ('Knockaround Guys', 'Taylor Reese'),\n",
       " ('A Man Apart', 'Sean Vetter'),\n",
       " ('Babylon A.D.', 'Toorop'),\n",
       " ('The Fast and the Furious: Tokyo Drift', 'Dominic Toretto (uncredited)'),\n",
       " ('The Fast and the Furious', 'Dominic Toretto'),\n",
       " ('Find Me Guilty', 'Jackie DiNorscio'),\n",
       " ('The Pacifier', 'Shane Wolf'),\n",
       " ('The Iron Giant', 'The Iron Giant (voice)'),\n",
       " ('Boiler Room', 'Chris Varick'),\n",
       " ('Fast Five', 'Dominic Toretto'),\n",
       " ('Riddick', 'Riddick'),\n",
       " ('Guardians of the Galaxy', 'Groot (voice)'),\n",
       " ('Furious 7', 'Dominic Toretto'),\n",
       " ('The Last Witch Hunter', 'Kaulder')]"
      ]
     },
     "execution_count": 30,
     "metadata": {},
     "output_type": "execute_result"
    }
   ],
   "source": [
    "%%sql\n",
    "SELECT DISTINCT m.title, c.characters\n",
    "FROM casts c\n",
    "JOIN actors a ON c.actor_id = a.actor_id\n",
    "JOIN movies m ON c.movie_id = m.movie_id\n",
    "WHERE a.actor_name = 'Vin Diesel';"
   ]
  },
  {
   "cell_type": "markdown",
   "id": "4ccf940c",
   "metadata": {},
   "source": [
    "### *Observation*\n",
    "Vin Diesel has played multiple unique characters, but his popularity is heavily tied to franchise roles like Fast & Furious and Riddick. This shows how his career has been built on recurring action personas."
   ]
  },
  {
   "cell_type": "markdown",
   "id": "d3ed71a0",
   "metadata": {},
   "source": [
    "### 13. What are the three production companies that have the highest movie popularity score on average, as recorded within the database?"
   ]
  },
  {
   "cell_type": "code",
   "execution_count": 31,
   "id": "92d65440",
   "metadata": {},
   "outputs": [
    {
     "name": "stdout",
     "output_type": "stream",
     "text": [
      " * sqlite:///C:\\Users\\PC\\.ipynb_checkpoints\\TMDB.db\n",
      "Done.\n"
     ]
    },
    {
     "data": {
      "text/html": [
       "<table>\n",
       "    <thead>\n",
       "        <tr>\n",
       "            <th>production_company_name</th>\n",
       "            <th>average_popularity</th>\n",
       "        </tr>\n",
       "    </thead>\n",
       "    <tbody>\n",
       "        <tr>\n",
       "            <td>The Donners&#x27; Company</td>\n",
       "            <td>514.569956</td>\n",
       "        </tr>\n",
       "        <tr>\n",
       "            <td>Bulletproof Cupid</td>\n",
       "            <td>481.098624</td>\n",
       "        </tr>\n",
       "        <tr>\n",
       "            <td>Kinberg Genre</td>\n",
       "            <td>326.92099900000005</td>\n",
       "        </tr>\n",
       "    </tbody>\n",
       "</table>"
      ],
      "text/plain": [
       "[(\"The Donners' Company\", 514.569956),\n",
       " ('Bulletproof Cupid', 481.098624),\n",
       " ('Kinberg Genre', 326.92099900000005)]"
      ]
     },
     "execution_count": 31,
     "metadata": {},
     "output_type": "execute_result"
    }
   ],
   "source": [
    "%%sql\n",
    "SELECT production_company_name,\n",
    "       AVG(popularity) AS average_popularity\n",
    "FROM movies\n",
    "JOIN productioncompanymap\n",
    "     ON movies.movie_id=productioncompanymap.movie_id\n",
    "JOIN productioncompanies\n",
    "     ON productioncompanymap.production_company_id=productioncompanies.production_company_id\n",
    "GROUP BY production_company_name\n",
    "HAVING movies.popularity>(SELECT AVG(popularity)\n",
    "                         FROM movies)\n",
    "ORDER BY average_popularity DESC\n",
    "LIMIT 3;"
   ]
  },
  {
   "cell_type": "code",
   "execution_count": 32,
   "id": "b57c27e7",
   "metadata": {},
   "outputs": [
    {
     "name": "stdout",
     "output_type": "stream",
     "text": [
      " * sqlite:///C:\\Users\\PC\\.ipynb_checkpoints\\TMDB.db\n",
      "Done.\n"
     ]
    },
    {
     "data": {
      "text/html": [
       "<table>\n",
       "    <thead>\n",
       "        <tr>\n",
       "            <th>production_company_name</th>\n",
       "            <th>title</th>\n",
       "            <th>popularity</th>\n",
       "        </tr>\n",
       "    </thead>\n",
       "    <tbody>\n",
       "        <tr>\n",
       "            <td>The Donners&#x27; Company</td>\n",
       "            <td>Deadpool</td>\n",
       "            <td>514.569956</td>\n",
       "        </tr>\n",
       "        <tr>\n",
       "            <td>Kinberg Genre</td>\n",
       "            <td>Deadpool</td>\n",
       "            <td>514.569956</td>\n",
       "        </tr>\n",
       "        <tr>\n",
       "            <td>Bulletproof Cupid</td>\n",
       "            <td>Guardians of the Galaxy</td>\n",
       "            <td>481.098624</td>\n",
       "        </tr>\n",
       "        <tr>\n",
       "            <td>Kinberg Genre</td>\n",
       "            <td>X-Men: Apocalypse</td>\n",
       "            <td>139.272042</td>\n",
       "        </tr>\n",
       "    </tbody>\n",
       "</table>"
      ],
      "text/plain": [
       "[(\"The Donners' Company\", 'Deadpool', 514.569956),\n",
       " ('Kinberg Genre', 'Deadpool', 514.569956),\n",
       " ('Bulletproof Cupid', 'Guardians of the Galaxy', 481.098624),\n",
       " ('Kinberg Genre', 'X-Men: Apocalypse', 139.272042)]"
      ]
     },
     "execution_count": 32,
     "metadata": {},
     "output_type": "execute_result"
    }
   ],
   "source": [
    "%%sql\n",
    "WITH TopCompanies AS (\n",
    "    SELECT pc.production_company_name,\n",
    "           AVG(m.popularity) AS avg_pop\n",
    "    FROM movies m\n",
    "    JOIN productioncompanymap pcm ON m.movie_id = pcm.movie_id\n",
    "    JOIN productioncompanies pc ON pcm.production_company_id = pc.production_company_id\n",
    "    GROUP BY pc.production_company_name\n",
    "    ORDER BY avg_pop DESC\n",
    "    LIMIT 3\n",
    "),\n",
    "\n",
    "BlockbusterMovies AS (\n",
    "    SELECT m.title,\n",
    "           pc.production_company_name,\n",
    "           m.popularity\n",
    "    FROM movies m\n",
    "    JOIN productioncompanymap pcm ON m.movie_id = pcm.movie_id\n",
    "    JOIN productioncompanies pc ON pcm.production_company_id = pc.production_company_id\n",
    "    WHERE m.popularity > (SELECT AVG(popularity) FROM movies)\n",
    ")\n",
    "\n",
    "SELECT b.production_company_name, b.title, b.popularity\n",
    "FROM BlockbusterMovies b\n",
    "JOIN TopCompanies t ON b.production_company_name = t.production_company_name\n",
    "ORDER BY b.popularity DESC;\n"
   ]
  },
  {
   "cell_type": "markdown",
   "id": "04453d07",
   "metadata": {},
   "source": [
    "### *Observation*\n",
    "The three companies with the highest average popularity scores dominate because they are behind major blockbuster releases. This suggests that production company branding does influence popularity and visibility in TMDB records."
   ]
  },
  {
   "cell_type": "markdown",
   "id": "d892dcac",
   "metadata": {},
   "source": [
    "### 14. How many female actors (i.e. gender = 1) have a name that starts with the letter \"N\"?"
   ]
  },
  {
   "cell_type": "code",
   "execution_count": 33,
   "id": "4bca2942",
   "metadata": {},
   "outputs": [
    {
     "name": "stdout",
     "output_type": "stream",
     "text": [
      " * sqlite:///C:\\Users\\PC\\.ipynb_checkpoints\\TMDB.db\n",
      "Done.\n"
     ]
    },
    {
     "data": {
      "text/html": [
       "<table>\n",
       "    <thead>\n",
       "        <tr>\n",
       "            <th>COUNT(actor_name)</th>\n",
       "        </tr>\n",
       "    </thead>\n",
       "    <tbody>\n",
       "        <tr>\n",
       "            <td>355</td>\n",
       "        </tr>\n",
       "    </tbody>\n",
       "</table>"
      ],
      "text/plain": [
       "[(355,)]"
      ]
     },
     "execution_count": 33,
     "metadata": {},
     "output_type": "execute_result"
    }
   ],
   "source": [
    "%%sql\n",
    "SELECT COUNT(actor_name)\n",
    "FROM actors\n",
    "WHERE gender=1 AND actor_name LIKE 'N%'"
   ]
  },
  {
   "cell_type": "markdown",
   "id": "ba041f22",
   "metadata": {},
   "source": [
    "### *Observation*\n",
    "A relatively small number of female actors have names starting with “N.” While not a key industry trend, it reflects how querying databases can sometimes uncover fun, trivial insights."
   ]
  },
  {
   "cell_type": "markdown",
   "id": "7ea65b50",
   "metadata": {},
   "source": [
    "### 15. Which genre has, on average, the lowest movie popularity score? "
   ]
  },
  {
   "cell_type": "code",
   "execution_count": 34,
   "id": "e3a55c56",
   "metadata": {},
   "outputs": [
    {
     "name": "stdout",
     "output_type": "stream",
     "text": [
      " * sqlite:///C:\\Users\\PC\\.ipynb_checkpoints\\TMDB.db\n",
      "Done.\n"
     ]
    },
    {
     "data": {
      "text/html": [
       "<table>\n",
       "    <thead>\n",
       "        <tr>\n",
       "            <th>genre_name</th>\n",
       "            <th>average_popularity</th>\n",
       "        </tr>\n",
       "    </thead>\n",
       "    <tbody>\n",
       "        <tr>\n",
       "            <td>Foreign</td>\n",
       "            <td>0.686786794117647</td>\n",
       "        </tr>\n",
       "        <tr>\n",
       "            <td>Documentary</td>\n",
       "            <td>3.945723809090908</td>\n",
       "        </tr>\n",
       "        <tr>\n",
       "            <td>TV Movie</td>\n",
       "            <td>6.389414749999999</td>\n",
       "        </tr>\n",
       "    </tbody>\n",
       "</table>"
      ],
      "text/plain": [
       "[('Foreign', 0.686786794117647),\n",
       " ('Documentary', 3.945723809090908),\n",
       " ('TV Movie', 6.389414749999999)]"
      ]
     },
     "execution_count": 34,
     "metadata": {},
     "output_type": "execute_result"
    }
   ],
   "source": [
    "%%sql\n",
    "SELECT genre_name,\n",
    "       AVG(popularity) AS average_popularity\n",
    "FROM movies\n",
    "JOIN genremap\n",
    "     ON movies.movie_id=genremap.movie_id\n",
    "JOIN genres\n",
    "     ON genres.genre_id=genremap.genre_id\n",
    "GROUP BY \n",
    "     genre_name\n",
    "HAVING \n",
    "    popularity<(SELECT AVG(popularity)\n",
    "                         FROM movies)\n",
    "ORDER BY average_popularity ASC\n",
    "LIMIT 3;"
   ]
  },
  {
   "cell_type": "markdown",
   "id": "20a19ff0",
   "metadata": {},
   "source": [
    "### *Observation*\n",
    "Genres that are more niche or targeted to specific audiences tend to have lower popularity scores, while mainstream genres (like Action, Adventure, or Animation) likely have higher average popularity."
   ]
  },
  {
   "cell_type": "markdown",
   "id": "3769de93",
   "metadata": {},
   "source": [
    "### 16. Which award category has the highest number of actor nominations (actors can be male or female)?"
   ]
  },
  {
   "cell_type": "code",
   "execution_count": 35,
   "id": "e3943f72",
   "metadata": {},
   "outputs": [
    {
     "name": "stdout",
     "output_type": "stream",
     "text": [
      " * sqlite:///C:\\Users\\PC\\.ipynb_checkpoints\\TMDB.db\n",
      "Done.\n"
     ]
    },
    {
     "data": {
      "text/html": [
       "<table>\n",
       "    <thead>\n",
       "        <tr>\n",
       "            <th>award</th>\n",
       "            <th>number_of_nominees</th>\n",
       "        </tr>\n",
       "    </thead>\n",
       "    <tbody>\n",
       "        <tr>\n",
       "            <td>Directing</td>\n",
       "            <td>426</td>\n",
       "        </tr>\n",
       "        <tr>\n",
       "            <td>Film Editing</td>\n",
       "            <td>407</td>\n",
       "        </tr>\n",
       "        <tr>\n",
       "            <td>Documentary (Short Subject)</td>\n",
       "            <td>347</td>\n",
       "        </tr>\n",
       "        <tr>\n",
       "            <td>Documentary (Feature)</td>\n",
       "            <td>315</td>\n",
       "        </tr>\n",
       "        <tr>\n",
       "            <td>Actor in a Supporting Role</td>\n",
       "            <td>309</td>\n",
       "        </tr>\n",
       "        <tr>\n",
       "            <td>Actress in a Supporting Role</td>\n",
       "            <td>306</td>\n",
       "        </tr>\n",
       "        <tr>\n",
       "            <td>Art Direction</td>\n",
       "            <td>304</td>\n",
       "        </tr>\n",
       "        <tr>\n",
       "            <td>Foreign Language Film</td>\n",
       "            <td>300</td>\n",
       "        </tr>\n",
       "        <tr>\n",
       "            <td>Best Picture</td>\n",
       "            <td>298</td>\n",
       "        </tr>\n",
       "        <tr>\n",
       "            <td>Cinematography</td>\n",
       "            <td>297</td>\n",
       "        </tr>\n",
       "        <tr>\n",
       "            <td>Costume Design</td>\n",
       "            <td>253</td>\n",
       "        </tr>\n",
       "        <tr>\n",
       "            <td>Music (Original Score)</td>\n",
       "            <td>230</td>\n",
       "        </tr>\n",
       "        <tr>\n",
       "            <td>Sound</td>\n",
       "            <td>225</td>\n",
       "        </tr>\n",
       "        <tr>\n",
       "            <td>Music (Song)</td>\n",
       "            <td>215</td>\n",
       "        </tr>\n",
       "        <tr>\n",
       "            <td>Music (Original Song)</td>\n",
       "            <td>195</td>\n",
       "        </tr>\n",
       "        <tr>\n",
       "            <td>Sound Recording</td>\n",
       "            <td>192</td>\n",
       "        </tr>\n",
       "        <tr>\n",
       "            <td>Short Film (Live Action)</td>\n",
       "            <td>186</td>\n",
       "        </tr>\n",
       "        <tr>\n",
       "            <td>Short Film (Animated)</td>\n",
       "            <td>175</td>\n",
       "        </tr>\n",
       "        <tr>\n",
       "            <td>Short Subject (Cartoon)</td>\n",
       "            <td>169</td>\n",
       "        </tr>\n",
       "        <tr>\n",
       "            <td>Cinematography (Black and White)</td>\n",
       "            <td>161</td>\n",
       "        </tr>\n",
       "        <tr>\n",
       "            <td>Music (Music Score of a Dramatic or Comedy Picture)</td>\n",
       "            <td>148</td>\n",
       "        </tr>\n",
       "        <tr>\n",
       "            <td>Art Direction (Black and White)</td>\n",
       "            <td>138</td>\n",
       "        </tr>\n",
       "        <tr>\n",
       "            <td>Cinematography (Color)</td>\n",
       "            <td>135</td>\n",
       "        </tr>\n",
       "        <tr>\n",
       "            <td>Music (Scoring of a Musical Picture)</td>\n",
       "            <td>127</td>\n",
       "        </tr>\n",
       "        <tr>\n",
       "            <td>Actor in a Leading Role</td>\n",
       "            <td>125</td>\n",
       "        </tr>\n",
       "        <tr>\n",
       "            <td>Actor</td>\n",
       "            <td>123</td>\n",
       "        </tr>\n",
       "        <tr>\n",
       "            <td>Actress</td>\n",
       "            <td>121</td>\n",
       "        </tr>\n",
       "        <tr>\n",
       "            <td>Writing (Screenplay Written Directly for the Screen)</td>\n",
       "            <td>120</td>\n",
       "        </tr>\n",
       "        <tr>\n",
       "            <td>Writing (Original Screenplay)</td>\n",
       "            <td>120</td>\n",
       "        </tr>\n",
       "        <tr>\n",
       "            <td>Visual Effects</td>\n",
       "            <td>115</td>\n",
       "        </tr>\n",
       "        <tr>\n",
       "            <td>Actress in a Leading Role</td>\n",
       "            <td>115</td>\n",
       "        </tr>\n",
       "        <tr>\n",
       "            <td>Art Direction (Color)</td>\n",
       "            <td>112</td>\n",
       "        </tr>\n",
       "        <tr>\n",
       "            <td>Honorary Award</td>\n",
       "            <td>109</td>\n",
       "        </tr>\n",
       "        <tr>\n",
       "            <td>Writing (Screenplay)</td>\n",
       "            <td>104</td>\n",
       "        </tr>\n",
       "        <tr>\n",
       "            <td>Outstanding Production</td>\n",
       "            <td>102</td>\n",
       "        </tr>\n",
       "        <tr>\n",
       "            <td>Writing (Screenplay, Based on Material from Another Medium)</td>\n",
       "            <td>95</td>\n",
       "        </tr>\n",
       "        <tr>\n",
       "            <td>Special Effects</td>\n",
       "            <td>93</td>\n",
       "        </tr>\n",
       "        <tr>\n",
       "            <td>Short Subject (One Reel)</td>\n",
       "            <td>90</td>\n",
       "        </tr>\n",
       "        <tr>\n",
       "            <td>Best Motion Picture</td>\n",
       "            <td>90</td>\n",
       "        </tr>\n",
       "        <tr>\n",
       "            <td>Makeup</td>\n",
       "            <td>87</td>\n",
       "        </tr>\n",
       "        <tr>\n",
       "            <td>Short Subject (Two Reel)</td>\n",
       "            <td>81</td>\n",
       "        </tr>\n",
       "        <tr>\n",
       "            <td>Costume Design (Color)</td>\n",
       "            <td>77</td>\n",
       "        </tr>\n",
       "        <tr>\n",
       "            <td>Costume Design (Black and White)</td>\n",
       "            <td>77</td>\n",
       "        </tr>\n",
       "        <tr>\n",
       "            <td>Writing (Adapted Screenplay)</td>\n",
       "            <td>70</td>\n",
       "        </tr>\n",
       "        <tr>\n",
       "            <td>Short Subject (Live Action)</td>\n",
       "            <td>68</td>\n",
       "        </tr>\n",
       "        <tr>\n",
       "            <td>Sound Editing</td>\n",
       "            <td>66</td>\n",
       "        </tr>\n",
       "        <tr>\n",
       "            <td>Writing (Screenplay Based on Material from Another Medium)</td>\n",
       "            <td>65</td>\n",
       "        </tr>\n",
       "        <tr>\n",
       "            <td>Sound Mixing</td>\n",
       "            <td>65</td>\n",
       "        </tr>\n",
       "        <tr>\n",
       "            <td>Music (Scoring)</td>\n",
       "            <td>64</td>\n",
       "        </tr>\n",
       "        <tr>\n",
       "            <td>Writing (Story and Screenplay, Written Directly for the Screen)</td>\n",
       "            <td>60</td>\n",
       "        </tr>\n",
       "        <tr>\n",
       "            <td>Animated Feature Film</td>\n",
       "            <td>59</td>\n",
       "        </tr>\n",
       "        <tr>\n",
       "            <td>Writing (Screenplay Based on Material Previously Produced or Published)</td>\n",
       "            <td>55</td>\n",
       "        </tr>\n",
       "        <tr>\n",
       "            <td>Writing (Original Story)</td>\n",
       "            <td>52</td>\n",
       "        </tr>\n",
       "        <tr>\n",
       "            <td>Special Award</td>\n",
       "            <td>51</td>\n",
       "        </tr>\n",
       "        <tr>\n",
       "            <td>Writing (Motion Picture Story)</td>\n",
       "            <td>50</td>\n",
       "        </tr>\n",
       "        <tr>\n",
       "            <td>Sound Effects Editing</td>\n",
       "            <td>47</td>\n",
       "        </tr>\n",
       "        <tr>\n",
       "            <td>Music (Original Dramatic Score)</td>\n",
       "            <td>41</td>\n",
       "        </tr>\n",
       "        <tr>\n",
       "            <td>Jean Hersholt Humanitarian Award</td>\n",
       "            <td>38</td>\n",
       "        </tr>\n",
       "        <tr>\n",
       "            <td>Irving G. Thalberg Memorial Award</td>\n",
       "            <td>38</td>\n",
       "        </tr>\n",
       "        <tr>\n",
       "            <td>Writing (Story and Screenplay)</td>\n",
       "            <td>35</td>\n",
       "        </tr>\n",
       "        <tr>\n",
       "            <td>Assistant Director</td>\n",
       "            <td>35</td>\n",
       "        </tr>\n",
       "        <tr>\n",
       "            <td>Outstanding Motion Picture</td>\n",
       "            <td>30</td>\n",
       "        </tr>\n",
       "        <tr>\n",
       "            <td>Music (Scoring of Music, Adaptation or Treatment)</td>\n",
       "            <td>30</td>\n",
       "        </tr>\n",
       "        <tr>\n",
       "            <td>Writing (Original Motion Picture Story)</td>\n",
       "            <td>25</td>\n",
       "        </tr>\n",
       "        <tr>\n",
       "            <td>Music (Song, Original for the Picture)</td>\n",
       "            <td>25</td>\n",
       "        </tr>\n",
       "        <tr>\n",
       "            <td>Gordon E. Sawyer Award</td>\n",
       "            <td>25</td>\n",
       "        </tr>\n",
       "        <tr>\n",
       "            <td>Documentary</td>\n",
       "            <td>25</td>\n",
       "        </tr>\n",
       "        <tr>\n",
       "            <td>Writing (Story and Screenplay, Based on Factual Material or Material Not Previously Published or Produced)</td>\n",
       "            <td>20</td>\n",
       "        </tr>\n",
       "        <tr>\n",
       "            <td>Production Design</td>\n",
       "            <td>20</td>\n",
       "        </tr>\n",
       "        <tr>\n",
       "            <td>Music (Original Musical or Comedy Score)</td>\n",
       "            <td>20</td>\n",
       "        </tr>\n",
       "        <tr>\n",
       "            <td>Music (Music Score, Substantially Original)</td>\n",
       "            <td>20</td>\n",
       "        </tr>\n",
       "        <tr>\n",
       "            <td>Music (Music Score of a Dramatic Picture)</td>\n",
       "            <td>20</td>\n",
       "        </tr>\n",
       "        <tr>\n",
       "            <td>John A. Bonner Medal of Commendation</td>\n",
       "            <td>19</td>\n",
       "        </tr>\n",
       "        <tr>\n",
       "            <td>Medal of Commendation</td>\n",
       "            <td>18</td>\n",
       "        </tr>\n",
       "        <tr>\n",
       "            <td>Writing (Adaptation)</td>\n",
       "            <td>17</td>\n",
       "        </tr>\n",
       "        <tr>\n",
       "            <td>Special Visual Effects</td>\n",
       "            <td>16</td>\n",
       "        </tr>\n",
       "        <tr>\n",
       "            <td>Short Subject (Comedy)</td>\n",
       "            <td>13</td>\n",
       "        </tr>\n",
       "        <tr>\n",
       "            <td>Short Subject (Novelty)</td>\n",
       "            <td>12</td>\n",
       "        </tr>\n",
       "        <tr>\n",
       "            <td>Makeup and Hairstyling</td>\n",
       "            <td>12</td>\n",
       "        </tr>\n",
       "        <tr>\n",
       "            <td>Award of Commendation</td>\n",
       "            <td>12</td>\n",
       "        </tr>\n",
       "        <tr>\n",
       "            <td>Dance Direction</td>\n",
       "            <td>11</td>\n",
       "        </tr>\n",
       "        <tr>\n",
       "            <td>Writing (Screenplay Written Directly for the Screen, Based on Factual Material or on Story Material Not Previously Published or Produced)</td>\n",
       "            <td>10</td>\n",
       "        </tr>\n",
       "        <tr>\n",
       "            <td>Writing (Screenplay Adapted from Other Material)</td>\n",
       "            <td>10</td>\n",
       "        </tr>\n",
       "        <tr>\n",
       "            <td>Writing</td>\n",
       "            <td>10</td>\n",
       "        </tr>\n",
       "        <tr>\n",
       "            <td>Sound Effects</td>\n",
       "            <td>10</td>\n",
       "        </tr>\n",
       "        <tr>\n",
       "            <td>Music (Score of a Musical Picture, Original or Adaptation)</td>\n",
       "            <td>10</td>\n",
       "        </tr>\n",
       "        <tr>\n",
       "            <td>Music (Original Score, for a Motion Picture [Not a Musical])</td>\n",
       "            <td>10</td>\n",
       "        </tr>\n",
       "        <tr>\n",
       "            <td>Music (Original Music Score)</td>\n",
       "            <td>10</td>\n",
       "        </tr>\n",
       "        <tr>\n",
       "            <td>Special Achievement Award (Visual Effects)</td>\n",
       "            <td>9</td>\n",
       "        </tr>\n",
       "        <tr>\n",
       "            <td>Short Subject (Animated)</td>\n",
       "            <td>9</td>\n",
       "        </tr>\n",
       "        <tr>\n",
       "            <td>Music (Scoring: Original Song Score and Adaptation -Or- Scoring: Adaptation)</td>\n",
       "            <td>9</td>\n",
       "        </tr>\n",
       "        <tr>\n",
       "            <td>Music (Scoring: Adaptation and Original Song Score)</td>\n",
       "            <td>8</td>\n",
       "        </tr>\n",
       "        <tr>\n",
       "            <td>Music (Original Song Score)</td>\n",
       "            <td>8</td>\n",
       "        </tr>\n",
       "        <tr>\n",
       "            <td>Short Subject (Color)</td>\n",
       "            <td>6</td>\n",
       "        </tr>\n",
       "        <tr>\n",
       "            <td>Music (Original Song Score and Its Adaptation or Adaptation Score)</td>\n",
       "            <td>6</td>\n",
       "        </tr>\n",
       "        <tr>\n",
       "            <td>Music (Original Song Score and Its Adaptation -Or- Adaptation Score)</td>\n",
       "            <td>6</td>\n",
       "        </tr>\n",
       "        <tr>\n",
       "            <td>Writing (Story and Screenplay, Based on Material Not Previously Published or Produced)</td>\n",
       "            <td>5</td>\n",
       "        </tr>\n",
       "        <tr>\n",
       "            <td>Writing (Screenplay, Original)</td>\n",
       "            <td>5</td>\n",
       "        </tr>\n",
       "        <tr>\n",
       "            <td>Writing (Screenplay, Adapted)</td>\n",
       "            <td>5</td>\n",
       "        </tr>\n",
       "        <tr>\n",
       "            <td>Outstanding Picture</td>\n",
       "            <td>5</td>\n",
       "        </tr>\n",
       "        <tr>\n",
       "            <td>Honorary Foreign Language Film Award</td>\n",
       "            <td>5</td>\n",
       "        </tr>\n",
       "        <tr>\n",
       "            <td>Special Achievement Award (Sound Effects Editing)</td>\n",
       "            <td>4</td>\n",
       "        </tr>\n",
       "        <tr>\n",
       "            <td>Writing (Title Writing)</td>\n",
       "            <td>3</td>\n",
       "        </tr>\n",
       "        <tr>\n",
       "            <td>Unique and Artistic Picture</td>\n",
       "            <td>3</td>\n",
       "        </tr>\n",
       "        <tr>\n",
       "            <td>Special Achievement Award</td>\n",
       "            <td>3</td>\n",
       "        </tr>\n",
       "        <tr>\n",
       "            <td>Short Film (Dramatic Live Action)</td>\n",
       "            <td>3</td>\n",
       "        </tr>\n",
       "        <tr>\n",
       "            <td>Music (Original Song Score or Adaptation Score)</td>\n",
       "            <td>3</td>\n",
       "        </tr>\n",
       "        <tr>\n",
       "            <td>Music (Adaptation Score)</td>\n",
       "            <td>3</td>\n",
       "        </tr>\n",
       "        <tr>\n",
       "            <td>Engineering Effects</td>\n",
       "            <td>3</td>\n",
       "        </tr>\n",
       "        <tr>\n",
       "            <td>Directing (Dramatic Picture)</td>\n",
       "            <td>3</td>\n",
       "        </tr>\n",
       "        <tr>\n",
       "            <td>Special Foreign Language Film Award</td>\n",
       "            <td>2</td>\n",
       "        </tr>\n",
       "        <tr>\n",
       "            <td>Directing (Comedy Picture)</td>\n",
       "            <td>2</td>\n",
       "        </tr>\n",
       "        <tr>\n",
       "            <td>Special Achievement Award (Sound Effects)</td>\n",
       "            <td>1</td>\n",
       "        </tr>\n",
       "        <tr>\n",
       "            <td>Special Achievement Award (Sound Editing)</td>\n",
       "            <td>1</td>\n",
       "        </tr>\n",
       "    </tbody>\n",
       "</table>"
      ],
      "text/plain": [
       "[('Directing', 426),\n",
       " ('Film Editing', 407),\n",
       " ('Documentary (Short Subject)', 347),\n",
       " ('Documentary (Feature)', 315),\n",
       " ('Actor in a Supporting Role', 309),\n",
       " ('Actress in a Supporting Role', 306),\n",
       " ('Art Direction', 304),\n",
       " ('Foreign Language Film', 300),\n",
       " ('Best Picture', 298),\n",
       " ('Cinematography', 297),\n",
       " ('Costume Design', 253),\n",
       " ('Music (Original Score)', 230),\n",
       " ('Sound', 225),\n",
       " ('Music (Song)', 215),\n",
       " ('Music (Original Song)', 195),\n",
       " ('Sound Recording', 192),\n",
       " ('Short Film (Live Action)', 186),\n",
       " ('Short Film (Animated)', 175),\n",
       " ('Short Subject (Cartoon)', 169),\n",
       " ('Cinematography (Black and White)', 161),\n",
       " ('Music (Music Score of a Dramatic or Comedy Picture)', 148),\n",
       " ('Art Direction (Black and White)', 138),\n",
       " ('Cinematography (Color)', 135),\n",
       " ('Music (Scoring of a Musical Picture)', 127),\n",
       " ('Actor in a Leading Role', 125),\n",
       " ('Actor', 123),\n",
       " ('Actress', 121),\n",
       " ('Writing (Screenplay Written Directly for the Screen)', 120),\n",
       " ('Writing (Original Screenplay)', 120),\n",
       " ('Visual Effects', 115),\n",
       " ('Actress in a Leading Role', 115),\n",
       " ('Art Direction (Color)', 112),\n",
       " ('Honorary Award', 109),\n",
       " ('Writing (Screenplay)', 104),\n",
       " ('Outstanding Production', 102),\n",
       " ('Writing (Screenplay, Based on Material from Another Medium)', 95),\n",
       " ('Special Effects', 93),\n",
       " ('Short Subject (One Reel)', 90),\n",
       " ('Best Motion Picture', 90),\n",
       " ('Makeup', 87),\n",
       " ('Short Subject (Two Reel)', 81),\n",
       " ('Costume Design (Color)', 77),\n",
       " ('Costume Design (Black and White)', 77),\n",
       " ('Writing (Adapted Screenplay)', 70),\n",
       " ('Short Subject (Live Action)', 68),\n",
       " ('Sound Editing', 66),\n",
       " ('Writing (Screenplay Based on Material from Another Medium)', 65),\n",
       " ('Sound Mixing', 65),\n",
       " ('Music (Scoring)', 64),\n",
       " ('Writing (Story and Screenplay, Written Directly for the Screen)', 60),\n",
       " ('Animated Feature Film', 59),\n",
       " ('Writing (Screenplay Based on Material Previously Produced or Published)', 55),\n",
       " ('Writing (Original Story)', 52),\n",
       " ('Special Award', 51),\n",
       " ('Writing (Motion Picture Story)', 50),\n",
       " ('Sound Effects Editing', 47),\n",
       " ('Music (Original Dramatic Score)', 41),\n",
       " ('Jean Hersholt Humanitarian Award', 38),\n",
       " ('Irving G. Thalberg Memorial Award', 38),\n",
       " ('Writing (Story and Screenplay)', 35),\n",
       " ('Assistant Director', 35),\n",
       " ('Outstanding Motion Picture', 30),\n",
       " ('Music (Scoring of Music, Adaptation or Treatment)', 30),\n",
       " ('Writing (Original Motion Picture Story)', 25),\n",
       " ('Music (Song, Original for the Picture)', 25),\n",
       " ('Gordon E. Sawyer Award', 25),\n",
       " ('Documentary', 25),\n",
       " ('Writing (Story and Screenplay, Based on Factual Material or Material Not Previously Published or Produced)', 20),\n",
       " ('Production Design', 20),\n",
       " ('Music (Original Musical or Comedy Score)', 20),\n",
       " ('Music (Music Score, Substantially Original)', 20),\n",
       " ('Music (Music Score of a Dramatic Picture)', 20),\n",
       " ('John A. Bonner Medal of Commendation', 19),\n",
       " ('Medal of Commendation', 18),\n",
       " ('Writing (Adaptation)', 17),\n",
       " ('Special Visual Effects', 16),\n",
       " ('Short Subject (Comedy)', 13),\n",
       " ('Short Subject (Novelty)', 12),\n",
       " ('Makeup and Hairstyling', 12),\n",
       " ('Award of Commendation', 12),\n",
       " ('Dance Direction', 11),\n",
       " ('Writing (Screenplay Written Directly for the Screen, Based on Factual Material or on Story Material Not Previously Published or Produced)', 10),\n",
       " ('Writing (Screenplay Adapted from Other Material)', 10),\n",
       " ('Writing', 10),\n",
       " ('Sound Effects', 10),\n",
       " ('Music (Score of a Musical Picture, Original or Adaptation)', 10),\n",
       " ('Music (Original Score, for a Motion Picture [Not a Musical])', 10),\n",
       " ('Music (Original Music Score)', 10),\n",
       " ('Special Achievement Award (Visual Effects)', 9),\n",
       " ('Short Subject (Animated)', 9),\n",
       " ('Music (Scoring: Original Song Score and Adaptation -Or- Scoring: Adaptation)', 9),\n",
       " ('Music (Scoring: Adaptation and Original Song Score)', 8),\n",
       " ('Music (Original Song Score)', 8),\n",
       " ('Short Subject (Color)', 6),\n",
       " ('Music (Original Song Score and Its Adaptation or Adaptation Score)', 6),\n",
       " ('Music (Original Song Score and Its Adaptation -Or- Adaptation Score)', 6),\n",
       " ('Writing (Story and Screenplay, Based on Material Not Previously Published or Produced)', 5),\n",
       " ('Writing (Screenplay, Original)', 5),\n",
       " ('Writing (Screenplay, Adapted)', 5),\n",
       " ('Outstanding Picture', 5),\n",
       " ('Honorary Foreign Language Film Award', 5),\n",
       " ('Special Achievement Award (Sound Effects Editing)', 4),\n",
       " ('Writing (Title Writing)', 3),\n",
       " ('Unique and Artistic Picture', 3),\n",
       " ('Special Achievement Award', 3),\n",
       " ('Short Film (Dramatic Live Action)', 3),\n",
       " ('Music (Original Song Score or Adaptation Score)', 3),\n",
       " ('Music (Adaptation Score)', 3),\n",
       " ('Engineering Effects', 3),\n",
       " ('Directing (Dramatic Picture)', 3),\n",
       " ('Special Foreign Language Film Award', 2),\n",
       " ('Directing (Comedy Picture)', 2),\n",
       " ('Special Achievement Award (Sound Effects)', 1),\n",
       " ('Special Achievement Award (Sound Editing)', 1)]"
      ]
     },
     "execution_count": 35,
     "metadata": {},
     "output_type": "execute_result"
    }
   ],
   "source": [
    "%%sql\n",
    "SELECT award,\n",
    "       COUNT(DISTINCT name) as number_of_nominees\n",
    "FROM oscars\n",
    "GROUP BY award\n",
    "ORDER BY number_of_nominees DESC\n"
   ]
  },
  {
   "cell_type": "markdown",
   "id": "67e80de2",
   "metadata": {},
   "source": [
    "### *Observation*\n",
    "\n",
    "**Top Categories by Nominations (Overall):**\n",
    "- Directing – 426  \n",
    "- Film Editing – 407  \n",
    "- Documentary (Short Subject) – 347  \n",
    "- Documentary (Feature) – 315  \n",
    "\n",
    "*These top categories are mostly technical and behind-the-scenes awards, not acting.*\n",
    "\n",
    "**Acting Categories:**\n",
    "- Actor in a Supporting Role – 309  \n",
    "- Actress in a Supporting Role – 306  \n",
    "- Actor in a Leading Role – 125  \n",
    "- Actress in a Leading Role – 115  \n",
    "\n",
    "*Supporting roles have more nominations than leading roles, likely due to multiple supporting actors per film.*\n",
    "\n",
    "**Overall Trends:**\n",
    "- Technical and creative categories dominate total nominations.  \n",
    "- Supporting roles offer more diversity in nominations compared to lead roles.\n"
   ]
  },
  {
   "cell_type": "markdown",
   "id": "a7d73885",
   "metadata": {},
   "source": [
    "### 17. Creating a View for Alan Rickman Week\n",
    "\n",
    "Hypothetical Scenario: DStv is dedicating a special week to actor Alan Rickman. I will create a SQL view that shows the titles, release dates, taglines, and overviews of all movies he has appeared in"
   ]
  },
  {
   "cell_type": "code",
   "execution_count": 36,
   "id": "f9b82bc6",
   "metadata": {},
   "outputs": [
    {
     "name": "stdout",
     "output_type": "stream",
     "text": [
      " * sqlite:///C:\\Users\\PC\\.ipynb_checkpoints\\TMDB.db\n",
      "(sqlite3.OperationalError) view Rickman_Movies already exists\n",
      "[SQL: CREATE VIEW Rickman_Movies AS\n",
      "SELECT title, release_date, tagline, overview \n",
      "FROM Movies\n",
      "LEFT JOIN Casts \n",
      "     ON Casts.movie_id = Movies.movie_id \n",
      "Left JOIN Actors \n",
      "     ON Casts.actor_id = Actors.actor_id \n",
      "WHERE Actors.actor_name = 'Alan Rickman']\n",
      "(Background on this error at: http://sqlalche.me/e/14/e3q8)\n"
     ]
    }
   ],
   "source": [
    "%%sql\n",
    "CREATE VIEW Rickman_Movies AS\n",
    "SELECT title, release_date, tagline, overview \n",
    "FROM Movies\n",
    "LEFT JOIN Casts \n",
    "     ON Casts.movie_id = Movies.movie_id \n",
    "Left JOIN Actors \n",
    "     ON Casts.actor_id = Actors.actor_id \n",
    "WHERE Actors.actor_name = 'Alan Rickman'"
   ]
  },
  {
   "cell_type": "code",
   "execution_count": 37,
   "id": "66ad1e6f",
   "metadata": {},
   "outputs": [
    {
     "name": "stdout",
     "output_type": "stream",
     "text": [
      " * sqlite:///C:\\Users\\PC\\.ipynb_checkpoints\\TMDB.db\n",
      "Done.\n"
     ]
    },
    {
     "data": {
      "text/html": [
       "<table>\n",
       "    <thead>\n",
       "        <tr>\n",
       "            <th>title</th>\n",
       "            <th>release_date</th>\n",
       "            <th>tagline</th>\n",
       "            <th>overview</th>\n",
       "        </tr>\n",
       "    </thead>\n",
       "    <tbody>\n",
       "        <tr>\n",
       "            <td>Love Actually</td>\n",
       "            <td>2003-09-07 00:00:00.000000</td>\n",
       "            <td>The ultimate romantic comedy.</td>\n",
       "            <td>Follows seemingly unrelated people as their lives begin to intertwine while they fall in û and out û of love. Affections languish and develop as Christmas draws near.</td>\n",
       "        </tr>\n",
       "        <tr>\n",
       "            <td>Die Hard</td>\n",
       "            <td>1988-07-15 00:00:00.000000</td>\n",
       "            <td>40 Stories. Twelve Terrorists. One Cop.</td>\n",
       "            <td>NYPD cop, John McClane&#x27;s plan to reconcile with his estranged wife is thrown for a serious loop when minutes after he arrives at her office, the entire building is overtaken by a group of terrorists. With little help from the LAPD, wisecracking McClane sets out to single-handedly rescue the hostages and bring the bad guys down.</td>\n",
       "        </tr>\n",
       "        <tr>\n",
       "            <td>Harry Potter and the Philosopher&#x27;s Stone</td>\n",
       "            <td>2001-11-16 00:00:00.000000</td>\n",
       "            <td>Let the Magic Begin.</td>\n",
       "            <td>Harry Potter has lived under the stairs at his aunt and uncle&#x27;s house his whole life. But on his 11th birthday, he learns he&#x27;s a powerful wizard -- with a place waiting for him at the Hogwarts School of Witchcraft and Wizardry. As he learns to harness his newfound powers with the help of the school&#x27;s kindly headmaster, Harry uncovers the truth about his parents&#x27; deaths -- and about the villain who&#x27;s to blame.</td>\n",
       "        </tr>\n",
       "        <tr>\n",
       "            <td>Harry Potter and the Chamber of Secrets</td>\n",
       "            <td>2002-11-13 00:00:00.000000</td>\n",
       "            <td>Hogwarts is back in session.</td>\n",
       "            <td>Ignoring threats to his life, Harry returns to Hogwarts to investigate û aided by Ron and Hermione û a mysterious series of attacks.</td>\n",
       "        </tr>\n",
       "        <tr>\n",
       "            <td>Harry Potter and the Prisoner of Azkaban</td>\n",
       "            <td>2004-05-31 00:00:00.000000</td>\n",
       "            <td>Something wicked this way comes.</td>\n",
       "            <td>Harry, Ron and Hermione return to Hogwarts for another magic-filled year. Harry comes face to face with danger yet again, this time in the form of escaped convict, Sirius Black û and turns to sympathetic Professor Lupin for help.</td>\n",
       "        </tr>\n",
       "        <tr>\n",
       "            <td>Harry Potter and the Goblet of Fire</td>\n",
       "            <td>2005-11-05 00:00:00.000000</td>\n",
       "            <td>Dark And Difficult Times Lie Ahead.</td>\n",
       "            <td>Harry starts his fourth year at Hogwarts, competes in the treacherous Triwizard Tournament and faces the evil Lord Voldemort. Ron and Hermione help Harry manage the pressure û but Voldemort lurks, awaiting his chance to destroy Harry and all that he stands for.</td>\n",
       "        </tr>\n",
       "        <tr>\n",
       "            <td>Harry Potter and the Order of the Phoenix</td>\n",
       "            <td>2007-06-28 00:00:00.000000</td>\n",
       "            <td>Evil Must Be Confronted.</td>\n",
       "            <td>Returning for his fifth year of study at Hogwarts, Harry is stunned to find that his warnings about the return of Lord Voldemort have been ignored. Left with no choice, Harry takes matters into his own hands, training a small group of students û dubbed &#x27;Dumbledore&#x27;s Army&#x27; û to defend themselves against the dark arts.</td>\n",
       "        </tr>\n",
       "        <tr>\n",
       "            <td>Harry Potter and the Half-Blood Prince</td>\n",
       "            <td>2009-07-07 00:00:00.000000</td>\n",
       "            <td>Dark Secrets Revealed</td>\n",
       "            <td>As Harry begins his sixth year at Hogwarts, he discovers an old book marked as &#x27;Property of the Half-Blood Prince&#x27;, and begins to learn more about Lord Voldemort&#x27;s dark past.</td>\n",
       "        </tr>\n",
       "        <tr>\n",
       "            <td>Galaxy Quest</td>\n",
       "            <td>1999-12-23 00:00:00.000000</td>\n",
       "            <td>A comedy of Galactic Proportions.</td>\n",
       "            <td>The stars of a 1970s sci-fi show - now scraping a living through re-runs and sci-fi conventions - are beamed aboard an alien spacecraft. Believing the cast&#x27;s heroic on-screen dramas are historical documents of real-life adventures, the band of aliens turn to the ailing celebrities for help in their quest to overcome the oppressive regime in their solar system.</td>\n",
       "        </tr>\n",
       "        <tr>\n",
       "            <td>Perfume: The Story of a Murderer</td>\n",
       "            <td>2006-09-13 00:00:00.000000</td>\n",
       "            <td>Based on the best-selling novel</td>\n",
       "            <td>Jean-Baptiste Grenouille, born in the stench of 18th century Paris, develops a superior olfactory sense, which he uses to create the world&#x27;s finest perfumes. However, his work takes a dark turn as he tries to preserve scents in the search for the ultimate perfume.</td>\n",
       "        </tr>\n",
       "        <tr>\n",
       "            <td>Michael Collins</td>\n",
       "            <td>1996-10-25 00:00:00.000000</td>\n",
       "            <td>Ireland, 1916. His Dreams Inspired Hope. His Words Ignited Passion. His Courage Forged A Nation&#x27;s Destiny.</td>\n",
       "            <td>Michael Collins plays a crucial role in the establishment of the Irish Free State in the 1920s, but becomes vilified by those hoping to create a completely independent Irish republic.</td>\n",
       "        </tr>\n",
       "        <tr>\n",
       "            <td>Dogma</td>\n",
       "            <td>1999-11-12 00:00:00.000000</td>\n",
       "            <td>It can be Hell getting into Heaven</td>\n",
       "            <td>The latest battle in the eternal war between Good and Evil has come to New Jersey in the late, late 20th Century. Angels, demons, apostles and prophets (of a sort) walk among the cynics and innocents of America and duke it out for the fate of humankind.</td>\n",
       "        </tr>\n",
       "        <tr>\n",
       "            <td>Sense and Sensibility</td>\n",
       "            <td>1995-12-13 00:00:00.000000</td>\n",
       "            <td>Lose your heart and come to your senses.</td>\n",
       "            <td>Rich Mr. Dashwood dies, leaving his second wife and her daughters poor by the rules of inheritance. Two daughters are the titular opposites.</td>\n",
       "        </tr>\n",
       "        <tr>\n",
       "            <td>The Hitchhiker&#x27;s Guide to the Galaxy</td>\n",
       "            <td>2005-01-15 00:00:00.000000</td>\n",
       "            <td>Don&#x27;t leave Earth without it.</td>\n",
       "            <td>&quot;Mere seconds before the Earth is to be demolished by an alien construction crew, Arthur Dent is swept off the planet by his friend Ford Prefect, a researcher penning a new edition of &quot;&quot;The Hitchhiker&#x27;s Guide to the Galaxy.&quot;&quot;&quot;</td>\n",
       "        </tr>\n",
       "        <tr>\n",
       "            <td>Robin Hood: Prince of Thieves</td>\n",
       "            <td>1991-06-14 00:00:00.000000</td>\n",
       "            <td>For the good of all men, and the love of one woman, he fought to uphold justice by breaking the law.</td>\n",
       "            <td>When the dastardly Sheriff of Nottingham murders Robin&#x27;s father, the legendary archer vows vengeance. To accomplish his mission, Robin joins forces with a band of exiled villagers (and comely Maid Marian), and together they battle to end the evil sheriff&#x27;s reign of terror.</td>\n",
       "        </tr>\n",
       "        <tr>\n",
       "            <td>Quigley Down Under</td>\n",
       "            <td>1990-10-17 00:00:00.000000</td>\n",
       "            <td>There&#x27;s a price on his head. A girl on his mind. And a twinkle in his eye.</td>\n",
       "            <td>American Matt Quigley answers Australian land baron Elliott Marston&#x27;s ad for a sharpshooter to kill the dingoes on his property. But when Quigley finds out that Marston&#x27;s real target is the aborigines, Quigley hits the road. Now, even American expatriate Crazy Cora can&#x27;t keep Quigley safe in his cat-and-mouse game with the homicidal Marston.</td>\n",
       "        </tr>\n",
       "        <tr>\n",
       "            <td>Alice in Wonderland</td>\n",
       "            <td>2010-03-03 00:00:00.000000</td>\n",
       "            <td>You&#x27;re invited to a very important date.</td>\n",
       "            <td>Alice, an unpretentious and individual 19-year-old, is betrothed to a dunce of an English nobleman. At her engagement party, she escapes the crowd to consider whether to go through with the marriage and falls down a hole in the garden after spotting an unusual rabbit. Arriving in a strange and surreal place called &#x27;Underland,&#x27; she finds herself in a world that resembles the nightmares she had as a child, filled with talking animals, villainous queens and knights, and frumious bandersnatches. Alice realizes that she is there for a reason û to conquer the horrific Jabberwocky and restore the rightful queen to her throne.</td>\n",
       "        </tr>\n",
       "        <tr>\n",
       "            <td>Bottle Shock</td>\n",
       "            <td>2008-08-06 00:00:00.000000</td>\n",
       "            <td>Based on a true story of love, victory, and fermentation</td>\n",
       "            <td>Paris-based wine expert Steven Spurrier heads to California in search of cheap wine that he can use for a blind taste test in the French capital. Stumbling upon the Napa Valley, the stuck-up Englishman is shocked to discover a winery turning out top-notch chardonnay. Determined to make a name for himself, he sets about getting the booze back to Paris.</td>\n",
       "        </tr>\n",
       "        <tr>\n",
       "            <td>The Butler</td>\n",
       "            <td>2013-08-16 00:00:00.000000</td>\n",
       "            <td>One quiet voice can ignite a revolution.</td>\n",
       "            <td>A look at the life of Cecil Gaines who served eight presidents as the White House&#x27;s head butler from 1952 to 1986, and had a unique front-row seat as political and racial history was made.</td>\n",
       "        </tr>\n",
       "        <tr>\n",
       "            <td>Alice Through the Looking Glass</td>\n",
       "            <td>2016-05-25 00:00:00.000000</td>\n",
       "            <td>It&#x27;s time for a little madness.</td>\n",
       "            <td>&quot;In the sequel to Tim Burton&#x27;s &quot;&quot;Alice in Wonderland&quot;&quot;, Alice Kingsleigh returns to Underland and faces a new adventure in saving the Mad Hatter.&quot;</td>\n",
       "        </tr>\n",
       "    </tbody>\n",
       "</table>"
      ],
      "text/plain": [
       "[('Love Actually', '2003-09-07 00:00:00.000000', 'The ultimate romantic comedy.', 'Follows seemingly unrelated people as their lives begin to intertwine while they fall in û and out û of love. Affections languish and develop as Christmas draws near.'),\n",
       " ('Die Hard', '1988-07-15 00:00:00.000000', '40 Stories. Twelve Terrorists. One Cop.', \"NYPD cop, John McClane's plan to reconcile with his estranged wife is thrown for a serious loop when minutes after he arrives at her office, the enti ... (31 characters truncated) ... roup of terrorists. With little help from the LAPD, wisecracking McClane sets out to single-handedly rescue the hostages and bring the bad guys down.\"),\n",
       " (\"Harry Potter and the Philosopher's Stone\", '2001-11-16 00:00:00.000000', 'Let the Magic Begin.', \"Harry Potter has lived under the stairs at his aunt and uncle's house his whole life. But on his 11th birthday, he learns he's a powerful wizard -- w ... (114 characters truncated) ... d powers with the help of the school's kindly headmaster, Harry uncovers the truth about his parents' deaths -- and about the villain who's to blame.\"),\n",
       " ('Harry Potter and the Chamber of Secrets', '2002-11-13 00:00:00.000000', 'Hogwarts is back in session.', 'Ignoring threats to his life, Harry returns to Hogwarts to investigate û aided by Ron and Hermione û a mysterious series of attacks.'),\n",
       " ('Harry Potter and the Prisoner of Azkaban', '2004-05-31 00:00:00.000000', 'Something wicked this way comes.', 'Harry, Ron and Hermione return to Hogwarts for another magic-filled year. Harry comes face to face with danger yet again, this time in the form of escaped convict, Sirius Black û and turns to sympathetic Professor Lupin for help.'),\n",
       " ('Harry Potter and the Goblet of Fire', '2005-11-05 00:00:00.000000', 'Dark And Difficult Times Lie Ahead.', 'Harry starts his fourth year at Hogwarts, competes in the treacherous Triwizard Tournament and faces the evil Lord Voldemort. Ron and Hermione help Harry manage the pressure û but Voldemort lurks, awaiting his chance to destroy Harry and all that he stands for.'),\n",
       " ('Harry Potter and the Order of the Phoenix', '2007-06-28 00:00:00.000000', 'Evil Must Be Confronted.', \"Returning for his fifth year of study at Hogwarts, Harry is stunned to find that his warnings about the return of Lord Voldemort have been ignored. L ... (20 characters truncated) ... Harry takes matters into his own hands, training a small group of students û dubbed 'Dumbledore's Army' û to defend themselves against the dark arts.\"),\n",
       " ('Harry Potter and the Half-Blood Prince', '2009-07-07 00:00:00.000000', 'Dark Secrets Revealed', \"As Harry begins his sixth year at Hogwarts, he discovers an old book marked as 'Property of the Half-Blood Prince', and begins to learn more about Lord Voldemort's dark past.\"),\n",
       " ('Galaxy Quest', '1999-12-23 00:00:00.000000', 'A comedy of Galactic Proportions.', \"The stars of a 1970s sci-fi show - now scraping a living through re-runs and sci-fi conventions - are beamed aboard an alien spacecraft. Believing th ... (64 characters truncated) ... l-life adventures, the band of aliens turn to the ailing celebrities for help in their quest to overcome the oppressive regime in their solar system.\"),\n",
       " ('Perfume: The Story of a Murderer', '2006-09-13 00:00:00.000000', 'Based on the best-selling novel', \"Jean-Baptiste Grenouille, born in the stench of 18th century Paris, develops a superior olfactory sense, which he uses to create the world's finest perfumes. However, his work takes a dark turn as he tries to preserve scents in the search for the ultimate perfume.\"),\n",
       " ('Michael Collins', '1996-10-25 00:00:00.000000', \"Ireland, 1916. His Dreams Inspired Hope. His Words Ignited Passion. His Courage Forged A Nation's Destiny.\", 'Michael Collins plays a crucial role in the establishment of the Irish Free State in the 1920s, but becomes vilified by those hoping to create a completely independent Irish republic.'),\n",
       " ('Dogma', '1999-11-12 00:00:00.000000', 'It can be Hell getting into Heaven', 'The latest battle in the eternal war between Good and Evil has come to New Jersey in the late, late 20th Century. Angels, demons, apostles and prophets (of a sort) walk among the cynics and innocents of America and duke it out for the fate of humankind.'),\n",
       " ('Sense and Sensibility', '1995-12-13 00:00:00.000000', 'Lose your heart and come to your senses.', 'Rich Mr. Dashwood dies, leaving his second wife and her daughters poor by the rules of inheritance. Two daughters are the titular opposites.'),\n",
       " (\"The Hitchhiker's Guide to the Galaxy\", '2005-01-15 00:00:00.000000', \"Don't leave Earth without it.\", '\"Mere seconds before the Earth is to be demolished by an alien construction crew, Arthur Dent is swept off the planet by his friend Ford Prefect, a researcher penning a new edition of \"\"The Hitchhiker\\'s Guide to the Galaxy.\"\"\"'),\n",
       " ('Robin Hood: Prince of Thieves', '1991-06-14 00:00:00.000000', 'For the good of all men, and the love of one woman, he fought to uphold justice by breaking the law.', \"When the dastardly Sheriff of Nottingham murders Robin's father, the legendary archer vows vengeance. To accomplish his mission, Robin joins forces with a band of exiled villagers (and comely Maid Marian), and together they battle to end the evil sheriff's reign of terror.\"),\n",
       " ('Quigley Down Under', '1990-10-17 00:00:00.000000', \"There's a price on his head. A girl on his mind. And a twinkle in his eye.\", \"American Matt Quigley answers Australian land baron Elliott Marston's ad for a sharpshooter to kill the dingoes on his property. But when Quigley fin ... (45 characters truncated) ... igines, Quigley hits the road. Now, even American expatriate Crazy Cora can't keep Quigley safe in his cat-and-mouse game with the homicidal Marston.\"),\n",
       " ('Alice in Wonderland', '2010-03-03 00:00:00.000000', \"You're invited to a very important date.\", \"Alice, an unpretentious and individual 19-year-old, is betrothed to a dunce of an English nobleman. At her engagement party, she escapes the crowd to ... (328 characters truncated) ... ous bandersnatches. Alice realizes that she is there for a reason û to conquer the horrific Jabberwocky and restore the rightful queen to her throne.\"),\n",
       " ('Bottle Shock', '2008-08-06 00:00:00.000000', 'Based on a true story of love, victory, and fermentation', 'Paris-based wine expert Steven Spurrier heads to California in search of cheap wine that he can use for a blind taste test in the French capital. Stu ... (55 characters truncated) ...  shocked to discover a winery turning out top-notch chardonnay. Determined to make a name for himself, he sets about getting the booze back to Paris.'),\n",
       " ('The Butler', '2013-08-16 00:00:00.000000', 'One quiet voice can ignite a revolution.', \"A look at the life of Cecil Gaines who served eight presidents as the White House's head butler from 1952 to 1986, and had a unique front-row seat as political and racial history was made.\"),\n",
       " ('Alice Through the Looking Glass', '2016-05-25 00:00:00.000000', \"It's time for a little madness.\", '\"In the sequel to Tim Burton\\'s \"\"Alice in Wonderland\"\", Alice Kingsleigh returns to Underland and faces a new adventure in saving the Mad Hatter.\"')]"
      ]
     },
     "execution_count": 37,
     "metadata": {},
     "output_type": "execute_result"
    }
   ],
   "source": [
    "%%sql\n",
    "SELECT title, release_date, tagline, overview \n",
    "FROM Rickman_Movies"
   ]
  },
  {
   "cell_type": "markdown",
   "id": "d0c8f58e",
   "metadata": {},
   "source": [
    "### *Observation*\n",
    "Creating a dedicated view for Alan Rickman highlights how SQL queries can be used for personalized insights. By filtering movies tied to a single actor, I created a dataset that could easily be used for a themed movie week or streaming recommendation engine."
   ]
  }
 ],
 "metadata": {
  "kernelspec": {
   "display_name": "Python 3 (ipykernel)",
   "language": "python",
   "name": "python3"
  },
  "language_info": {
   "codemirror_mode": {
    "name": "ipython",
    "version": 3
   },
   "file_extension": ".py",
   "mimetype": "text/x-python",
   "name": "python",
   "nbconvert_exporter": "python",
   "pygments_lexer": "ipython3",
   "version": "3.11.5"
  }
 },
 "nbformat": 4,
 "nbformat_minor": 5
}
